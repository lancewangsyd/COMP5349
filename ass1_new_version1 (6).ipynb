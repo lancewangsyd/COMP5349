{
  "nbformat": 4,
  "nbformat_minor": 0,
  "metadata": {
    "colab": {
      "name": "ass1_new_version1.ipynb",
      "version": "0.3.2",
      "views": {},
      "default_view": {},
      "provenance": [],
      "collapsed_sections": []
    },
    "kernelspec": {
      "name": "python3",
      "display_name": "Python 3"
    },
    "accelerator": "GPU"
  },
  "cells": [
    {
      "metadata": {
        "id": "MrCs3KZT7vkS",
        "colab_type": "text"
      },
      "cell_type": "markdown",
      "source": [
        "### the three blocks are the whole model"
      ]
    },
    {
      "metadata": {
        "id": "8lh3M9wZ4rhf",
        "colab_type": "code",
        "colab": {
          "autoexec": {
            "startup": false,
            "wait_interval": 0
          }
        }
      },
      "cell_type": "code",
      "source": [
        "import numpy as np\n",
        "import matplotlib.pyplot as pl\n",
        "import math\n",
        "\n",
        "class Activation(object):\n",
        "\n",
        "      \n",
        "    def __relu(self,x):\n",
        "        \n",
        "        return np.maximum(0,x)\n",
        "      \n",
        "    def __relu_deriv(self,a):\n",
        "        a[a>0]=1\n",
        "        a[a<=0]=0\n",
        "        return a\n",
        "      \n",
        "    def __softmax(self, x):\n",
        "        \"\"\"\n",
        "        x is of shape(m,n_in)\n",
        "        \"\"\"\n",
        "        y= np.exp(x)/np.sum(np.exp(x),axis=1).reshape(-1,1)\n",
        "        assert(y.shape == x.shape)\n",
        "        \n",
        "        return y\n",
        "      \n",
        "    def __softmax_deriv(self, a):\n",
        "        \n",
        "        y = a*(1-a)\n",
        "        assert(y.shape == a.shape)\n",
        "        return y\n",
        "\n",
        "    def __init__(self,activation='relu'):\n",
        "        if activation == 'softmax':\n",
        "            self.f = self.__softmax\n",
        "            self.f_deriv = self.__softmax_deriv\n",
        "        elif activation == 'relu':\n",
        "            self.f = self.__relu\n",
        "            self.f_deriv = self.__relu_deriv"
      ],
      "execution_count": 0,
      "outputs": []
    },
    {
      "metadata": {
        "id": "skcEQOleWrhj",
        "colab_type": "code",
        "colab": {
          "autoexec": {
            "startup": false,
            "wait_interval": 0
          }
        }
      },
      "cell_type": "code",
      "source": [
        "class HiddenLayer(object):    \n",
        "    def __init__(self, n_in, n_out, W=None, b=None, activation = \"relu\" ):\n",
        "        \n",
        "        self.act = activation\n",
        "\n",
        "        self.input=None\n",
        "        self.activation = Activation(activation).f\n",
        "        self.activation_deriv = Activation(activation).f_deriv\n",
        "        # end-snippet-1\n",
        "\n",
        "        # `W` is initialized with `W_values` which is uniformely sampled\n",
        "        # from sqrt(-6./(n_in+n_hidden)) and sqrt(6./(n_in+n_hidden))\n",
        "        # Note : optimal initialization of weights is dependent on the\n",
        "        #        activation function used (among other things).\n",
        "        #        For example, results presented in [Xavier10] suggest that you\n",
        "        #        should use 4 times larger initial weights for sigmoid\n",
        "        #        compared to tanh\n",
        "        #        We have no info for other function, so we use the same as\n",
        "        #        tanh.\n",
        "        np.random.seed(7)\n",
        "        \n",
        "        self.W = np.random.uniform(\n",
        "                low=-np.sqrt(6. / (n_in + n_out)),\n",
        "                high=np.sqrt(6. / (n_in + n_out)),\n",
        "                size=(n_in, n_out)\n",
        "        )\n",
        "        \n",
        "        self.b = np.zeros((1, n_out))\n",
        "        \n",
        "        self.grad_W = np.zeros(self.W.shape)\n",
        "        self.grad_b = np.zeros(self.b.shape)\n",
        "        \n",
        "        self.v_dW = np.zeros(self.W.shape)\n",
        "        self.v_db = np.zeros(self.b.shape)\n",
        "        \n",
        "    def forward(self, input, keep_prob):\n",
        "        '''\n",
        "        :type input: numpy.array\n",
        "        :input.shape = (m, n_in), b.shape = (1, n_out), W.shape = (n_in, n_out)\n",
        "        :lin_output.shape = (m, n_out)\n",
        "        '''\n",
        "\n",
        "        lin_output = np.dot(input, self.W) + self.b\n",
        "        \n",
        "        assert(self.W.shape[1] == self.b.shape[1])\n",
        "        assert(input.shape[1] == self.W.shape[0])\n",
        "        assert(input.shape[0] == lin_output.shape[0])\n",
        "        \n",
        "        if self.act == \"softmax\":\n",
        "            keep_prob = 1\n",
        "  \n",
        "        self.output = (\n",
        "            lin_output if self.activation is None\n",
        "            else self.activation(lin_output)\n",
        "        )\n",
        "\n",
        "        output = np.atleast_2d(self.output)\n",
        "\n",
        "        d = np.random.rand(output.shape[0],output.shape[1]) < keep_prob\n",
        "        output = np.multiply(d, output)\n",
        "        output /= keep_prob\n",
        "        \n",
        "        assert(output.shape == self.output.shape)\n",
        "\n",
        "        self.input=input\n",
        "        self.output = output\n",
        "        return self.output\n",
        "    \n",
        "    def backward(self, delta, beta, keep_prob):       \n",
        "        \"\"\"\n",
        "        :self.input.shape = (m, n_in)\n",
        "        :delta.shape = (m, n_out)\n",
        "        :self.grad_W.shape = (n_in, n_out)\n",
        "        :self.grad_b.shape = (1, n_out)\n",
        "        :delta_.shape = (m, n_in)\n",
        "        \"\"\"\n",
        "        delta = np.atleast_2d(delta)\n",
        "        self.input = np.atleast_2d(self.input)\n",
        "        assert(self.input.shape[0] == delta.shape[0])\n",
        "        m = self.input.shape[0]\n",
        "        \n",
        "        self.grad_W = self.input.T.dot(delta)/m\n",
        "        self.grad_b = np.sum(delta, axis = 0)/m\n",
        "        \n",
        "        self.grad_b = np.atleast_2d(self.grad_b)\n",
        "        \n",
        "\n",
        "        self.v_dW = beta * self.v_dW + (1-beta) * self.grad_W\n",
        "        self.v_db = beta * self.v_db + (1-beta) * self.grad_b\n",
        "\n",
        "        assert(self.v_dW.shape == self.grad_W.shape)\n",
        "        assert(self.v_db.shape == self.grad_b.shape)\n",
        "        \n",
        "        delta_ = delta.dot(self.W.T) * self.activation_deriv(self.input)\n",
        "        delta_ /= keep_prob\n",
        "        assert(delta_.shape == self.input.shape)\n",
        "        return delta_"
      ],
      "execution_count": 0,
      "outputs": []
    },
    {
      "metadata": {
        "id": "GjkBweoHBh02",
        "colab_type": "code",
        "colab": {
          "autoexec": {
            "startup": false,
            "wait_interval": 0
          }
        }
      },
      "cell_type": "code",
      "source": [
        "class MLP:\n",
        "    \"\"\"\n",
        "    \"\"\"      \n",
        "    def __init__(self, layers):\n",
        "        \"\"\"\n",
        "        :param layers: A list containing the number of units in each layer.\n",
        "        Should be at least two values\n",
        "\n",
        "        \"\"\"        \n",
        "        ### initialize layers\n",
        "\n",
        "        self.layers=[]\n",
        "        self.layers_number = layers\n",
        "        self.params=[]\n",
        "\n",
        "        self.activation= None \n",
        "        \n",
        "        for i in range(len(layers)-2):\n",
        "            self.layers.append(HiddenLayer(layers[i],layers[i+1], activation=\"relu\"))\n",
        "\n",
        "        L = len(layers)\n",
        "        self.layers.append(HiddenLayer(layers[L-2],layers[L-1], activation=\"softmax\"))\n",
        "            \n",
        "    def forward(self, input, keep_prob):\n",
        "        for layer in self.layers:\n",
        "            output=layer.forward(input, keep_prob)\n",
        "            input=output\n",
        "        \n",
        "        return output\n",
        "    \n",
        "    def criterion_cross_entropy(self, y, y_hat):\n",
        "        \"\"\"\n",
        "        y.shape = y-hat.shape = (m, yn)\n",
        "        delta.shape = (m, yn)\n",
        "        \"\"\"\n",
        "      \n",
        "        assert(y.shape == y_hat.shape)\n",
        "        \n",
        "        activation_deriv=Activation(\"softmax\").f_deriv\n",
        "        \n",
        "        loss = -np.sum(np.log(y_hat) * y) \n",
        "                \n",
        "        error = y-y_hat\n",
        "        \n",
        "        delta = error*activation_deriv(y_hat)  \n",
        "        assert(delta.shape == y.shape)\n",
        "        return loss, delta\n",
        "      \n",
        "    \n",
        "    def backward(self,delta, beta, keep_prob):        \n",
        "        for layer in reversed(self.layers):\n",
        "            delta=layer.backward(delta, beta, keep_prob)\n",
        "            \n",
        "    def update(self,lr):\n",
        "        \"\"\"\n",
        "        v_db.shape = (m, n_out)\n",
        "        b.shape = (1, n_out)\n",
        "        \"\"\"\n",
        "        for layer in self.layers:\n",
        "            layer.W += lr * layer.v_dW                   \n",
        "            layer.b += lr * layer.v_db\n",
        "            \n",
        "   \n",
        "    def create_mini_batch(self, mini_batch_size, labels, X, y, yn, num_features, m):\n",
        "        \"\"\"\n",
        "        \n",
        "        \"\"\"\n",
        "        #initializations\n",
        "        np.random.seed(1)\n",
        "\n",
        "        mini_batches = []            \n",
        "        permutation = list(np.random.permutation(m))\n",
        "        shuffled_X = X[permutation, :]\n",
        "        shuffled_y = y[permutation, :]\n",
        "        \n",
        "        labels = labels[permutation]\n",
        "        mini_batches_labels = labels\n",
        "\n",
        "        num_com_batches = math.floor(m/mini_batch_size)\n",
        "        \n",
        "        for k in range(0, num_com_batches):\n",
        "            mini_batch_X = shuffled_X[k*mini_batch_size:(k+1)* mini_batch_size, : ]\n",
        "            mini_batch_y = shuffled_y[k*mini_batch_size:(k+1)* mini_batch_size, : ]\n",
        "            mini_batch = (mini_batch_X, mini_batch_y)\n",
        "            mini_batches.append(mini_batch)\n",
        "            assert(mini_batch_X.shape == (mini_batch_size, num_features))\n",
        "            assert(mini_batch_y.shape == (mini_batch_size, yn))\n",
        "            \n",
        "        if m % mini_batch_size !=0: \n",
        "            mini_batch_X = shuffled_X[(k+1)*mini_batch_size:, : ]\n",
        "            mini_batch_y = shuffled_y[(k+1)*mini_batch_size:, : ]\n",
        "            mini_batch = (mini_batch_X, mini_batch_y)\n",
        "            mini_batches.append(mini_batch)\n",
        "            \n",
        "        return mini_batches, mini_batches_labels\n",
        "      \n",
        "    def fit_pre_processing(self, X, labels, epochs):\n",
        "      \n",
        "        labels = labels.flatten()\n",
        "        assert(X.shape[0] == labels.shape[0])\n",
        "\n",
        "        y = (np.arange(self.layers_number[-1]) == labels[:, None]).astype(float)\n",
        "        yn = y.shape[1]\n",
        "        assert(y.shape[0] == X.shape[0])\n",
        "                \n",
        "        num_features = X.shape[1]       \n",
        "        m = X.shape[0]\n",
        "        \n",
        "        to_return_cost = np.zeros(epochs)\n",
        "        to_return_accuracy = np.zeros(epochs)\n",
        "        \n",
        "        return y, yn, num_features, m, to_return_cost, to_return_accuracy\n",
        "      \n",
        "    def fit(self, X, labels, learning_rate=0.1, epochs=100, keep_prob = 1, beta=0, mini_batch_size = 1, X_test = None, labels_test = None, ):\n",
        "        \n",
        "        \"\"\"\n",
        "        :X.shape = (m, num_features)\n",
        "        :labels.shape = (m, 1) / (m,)\n",
        "        :y.shape = (m, yn)\n",
        "        :y_hat.shape = y.shape\n",
        "        \"\"\"\n",
        "        y, yn, num_features, m, to_return_cost, to_return_accuracy = self.fit_pre_processing(X, labels, epochs)\n",
        "        \n",
        "        if X_test and labels_test:\n",
        "            y_test, yn_test, num_features_test, m_test, to_return_cost_test, to_return_accuracy_test = self.fit_pre_processing(X_test, labels_test, epochs)\n",
        "\n",
        "            assert(num_features == num_features_test)\n",
        "            assert(yn == yn_test)\n",
        "\n",
        "            num_features_test = num_features\n",
        "            yn_test = yn\n",
        "\n",
        "        mini_batches, mini_batches_labels = self.create_mini_batch(mini_batch_size, labels, X, y, yn, num_features, m)\n",
        "\n",
        "        for k in range(epochs):\n",
        "            y_hat_labels = []\n",
        "\n",
        "            for mini_batch in mini_batches:\n",
        "                \n",
        "                mini_batch_X, mini_batch_y = mini_batch\n",
        "                \n",
        "                mini_batch_y_hat = self.forward(mini_batch_X, keep_prob)\n",
        "                \n",
        "                loss, delta=self.criterion_cross_entropy(mini_batch_y, mini_batch_y_hat)\n",
        "                \n",
        "                self.backward(delta, beta, keep_prob)\n",
        "                \n",
        "                self.update(learning_rate)\n",
        "                \n",
        "                y_hat_label = mini_batch_y_hat.argmax(axis = 1)\n",
        "                \n",
        "                y_hat_labels = np.append(y_hat_labels, y_hat_label)\n",
        "    \n",
        "            to_return_cost[k] = np.mean(loss)\n",
        "            \n",
        "            assert(len(y_hat_labels) == len(mini_batches_labels))\n",
        "            to_return_accuracy[k] = str(np.sum((y_hat_labels == mini_batches_labels)/m)) \n",
        "            \n",
        "            if X_test and labels_test:\n",
        "              \n",
        "                y_hat_test = self.forward(X_test, keep_prob = 1)\n",
        "                \n",
        "                loss_test, delta_test=self.criterion_cross_entropy(y_test, y_hat_test)\n",
        "                \n",
        "                y_hat_label_test = y_hat_test.argmax(axis = 1)\n",
        "                \n",
        "                assert(len(y_hat_label_test) == len(labels_test))\n",
        "                \n",
        "                to_return_cost_test[k] = np.mean(loss_test)\n",
        "                \n",
        "                to_return_accuracy_test[k] = str(np.sum((y_hat_label_test == labels_test)/m_test))\n",
        "            \n",
        "            if k % 10000 ==0:\n",
        "                print(\"Cost after iteration %i: %f\" %(k, to_return_cost[k]))\n",
        "                print(\"Accuracy after iteration %i: %f\" %(k, to_return_accuracy[k]))\n",
        "\n",
        "        print(\"accuracy: \", to_return_accuracy[k])\n",
        "        print(\"cost: \", to_return_cost[k])\n",
        "        if X_test and labels_test: \n",
        "            print(\"accuracy_test: \", to_return_accuracy_test[k])\n",
        "            print(\"cost_test: \", to_return_cost_test[k])\n",
        "        \n",
        "        if X_test and labels_test:\n",
        "            return to_return_cost, to_return_accuracy, to_return_cost_test, to_return_accuracy_test, y_hat_label_test        \n",
        "        else:\n",
        "            return to_return_cost, to_return_accuracy\n"
      ],
      "execution_count": 0,
      "outputs": []
    },
    {
      "metadata": {
        "id": "yw5Az6A97ONC",
        "colab_type": "text"
      },
      "cell_type": "markdown",
      "source": [
        "### This MLP_train altomatically trains the training data. just need to input number of inputs: m and other parameters."
      ]
    },
    {
      "metadata": {
        "id": "mWthkPtjeP9F",
        "colab_type": "code",
        "colab": {
          "autoexec": {
            "startup": false,
            "wait_interval": 0
          }
        },
        "cellView": "code"
      },
      "cell_type": "code",
      "source": [
        "\n",
        "class MLP_train():\n",
        "    \"\"\"\n",
        "    hidden layers - a python list\n",
        "    \"\"\"\n",
        "    def __init__(self, m, num_features = 128, yn = 10):\n",
        "        \n",
        "        \n",
        "          \n",
        "        self.m = m\n",
        "        self.num_features = num_features\n",
        "        self.yn = yn\n",
        "\n",
        "        self.X_train = X[0:m,:]\n",
        "        self.labels_train = labels[0:m]\n",
        "   \n",
        "    def cal(self, mini_batch_size = 1, beta = .8, keep_prob = 1, learning_rate = .005, epochs = 100, hidden_layers = None):\n",
        "        \n",
        "        m = self.m\n",
        "        num_features = self.num_features\n",
        "        yn = self.yn\n",
        "        \n",
        "        if mini_batch_size > m: \n",
        "          raise ValueError('mini_batch_size too big')\n",
        "         \n",
        "        if hidden_layers == None:\n",
        "            layers_number = [num_features, yn]\n",
        "        else:\n",
        "            layers_number = [num_features] + hidden_layers + [yn]\n",
        "          \n",
        "        case = MLP(layers_number)\n",
        "        cost, accuracy = case.fit(self.X_train, self.labels_train, learning_rate, epochs, keep_prob, beta, mini_batch_size, X_test = None, labels_test= None)\n",
        "\n",
        "        %matplotlib inline\n",
        "        \n",
        "        pl.plot(cost)\n",
        "        pl.plot(accuracy)\n",
        "        \n",
        "\n",
        "    "
      ],
      "execution_count": 0,
      "outputs": []
    },
    {
      "metadata": {
        "id": "q58XWD3d7ZLl",
        "colab_type": "text"
      },
      "cell_type": "markdown",
      "source": [
        "### input data from local"
      ]
    },
    {
      "metadata": {
        "id": "iJJW9uy3enXE",
        "colab_type": "code",
        "colab": {
          "autoexec": {
            "startup": false,
            "wait_interval": 0
          },
          "resources": {
            "http://localhost:8080/nbextensions/google.colab/files.js": {
              "data": "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",
              "ok": true,
              "headers": [
                [
                  "content-type",
                  "application/javascript"
                ]
              ],
              "status": 200,
              "status_text": ""
            }
          },
          "base_uri": "https://localhost:8080/",
          "height": 140
        },
        "cellView": "code",
        "outputId": "3dc16431-32ec-4528-af49-11427b786531",
        "executionInfo": {
          "status": "ok",
          "timestamp": 1525262798983,
          "user_tz": -600,
          "elapsed": 732082,
          "user": {
            "displayName": "Lan",
            "photoUrl": "https://lh3.googleusercontent.com/a/default-user=s128",
            "userId": "106352409797232494979"
          }
        }
      },
      "cell_type": "code",
      "source": [
        "from google.colab import files\n",
        "\n",
        "uploaded = files.upload()\n",
        "\n",
        "for fn in uploaded.keys():\n",
        "  print('User uploaded file \"{name}\" with length {length} bytes'.format(\n",
        "      name=fn, length=len(uploaded[fn])))"
      ],
      "execution_count": 44,
      "outputs": [
        {
          "output_type": "display_data",
          "data": {
            "text/html": [
              "\n",
              "     <input type=\"file\" id=\"files-5ad967a8-e68e-4e2d-b283-5048de71796e\" name=\"files[]\" multiple disabled />\n",
              "     <output id=\"result-5ad967a8-e68e-4e2d-b283-5048de71796e\">\n",
              "      Upload widget is only available when the cell has been executed in the\n",
              "      current browser session. Please rerun this cell to enable.\n",
              "      </output>\n",
              "      <script src=\"/nbextensions/google.colab/files.js\"></script> "
            ],
            "text/plain": [
              "<IPython.core.display.HTML object>"
            ]
          },
          "metadata": {
            "tags": []
          }
        },
        {
          "output_type": "stream",
          "text": [
            "Saving train_128.h5 to train_128.h5\n",
            "Saving train_label.h5 to train_label.h5\n",
            "User uploaded file \"train_128.h5\" with length 61442144 bytes\n",
            "User uploaded file \"train_label.h5\" with length 482144 bytes\n"
          ],
          "name": "stdout"
        }
      ]
    },
    {
      "metadata": {
        "id": "a6KIqpFi7cxS",
        "colab_type": "text"
      },
      "cell_type": "markdown",
      "source": [
        "### load in data"
      ]
    },
    {
      "metadata": {
        "id": "4TPsi98qepuS",
        "colab_type": "code",
        "colab": {
          "autoexec": {
            "startup": false,
            "wait_interval": 0
          }
        },
        "cellView": "code"
      },
      "cell_type": "code",
      "source": [
        "\n",
        "import numpy as np\n",
        "with h5py.File('train_128.h5','r') as H:\n",
        "    X = np.copy(H['data'])\n",
        "\n",
        "with h5py.File('train_label.h5','r') as H:\n",
        "    labels = np.copy(H['label'])"
      ],
      "execution_count": 0,
      "outputs": []
    },
    {
      "metadata": {
        "id": "6OmD8fjv7e8h",
        "colab_type": "text"
      },
      "cell_type": "markdown",
      "source": [
        "### normalise data: using z_score or normalisation method"
      ]
    },
    {
      "metadata": {
        "id": "9CdseuB22rIB",
        "colab_type": "code",
        "colab": {
          "autoexec": {
            "startup": false,
            "wait_interval": 0
          }
        }
      },
      "cell_type": "code",
      "source": [
        "def z_score(x, axis):\n",
        "    x = np.array(x).astype(float)\n",
        "    xr = np.rollaxis(x, axis=axis)\n",
        "    xr -= np.mean(x, axis=axis)\n",
        "    xr /= np.std(x, axis=axis)\n",
        "    # print(x)\n",
        "    return x\n",
        "  \n"
      ],
      "execution_count": 0,
      "outputs": []
    },
    {
      "metadata": {
        "id": "F_JFkHvI5Emq",
        "colab_type": "code",
        "colab": {
          "autoexec": {
            "startup": false,
            "wait_interval": 0
          }
        }
      },
      "cell_type": "code",
      "source": [
        "\"\"\"\n",
        "needs to be debugged\n",
        "\"\"\"\n",
        "def norm(x, axis):\n",
        "    x = np.array(x).astype(float)\n",
        "    x_mean = np.mean(x, axis = axis)\n",
        "    x_max = np.max(x, axis = axis)\n",
        "    x_min = np.min(x, axis = axis)\n",
        "    x_ = (x-np.atleast_2d(x_mean))/(x_max-x_min)\n",
        "\n",
        "    # print(x)\n",
        "    return x"
      ],
      "execution_count": 0,
      "outputs": []
    },
    {
      "metadata": {
        "id": "KnLgSPHT5nft",
        "colab_type": "code",
        "colab": {
          "autoexec": {
            "startup": false,
            "wait_interval": 0
          },
          "base_uri": "https://localhost:8080/",
          "height": 51
        },
        "outputId": "f548285b-fe92-4681-ff10-e32951f72344",
        "executionInfo": {
          "status": "ok",
          "timestamp": 1525266270376,
          "user_tz": -600,
          "elapsed": 732,
          "user": {
            "displayName": "Lan",
            "photoUrl": "https://lh3.googleusercontent.com/a/default-user=s128",
            "userId": "106352409797232494979"
          }
        }
      },
      "cell_type": "code",
      "source": [
        "\"\"\"\n",
        "for testing \n",
        "\"\"\"\n",
        "x = np.array([[1,2,3],\n",
        "             [2,5,6]])\n",
        "z_score(x,1)\n",
        "norm(x,0)"
      ],
      "execution_count": 126,
      "outputs": [
        {
          "output_type": "execute_result",
          "data": {
            "text/plain": [
              "array([[1., 2., 3.],\n",
              "       [2., 5., 6.]])"
            ]
          },
          "metadata": {
            "tags": []
          },
          "execution_count": 126
        }
      ]
    },
    {
      "metadata": {
        "id": "-sJrI_f53ZdQ",
        "colab_type": "code",
        "colab": {
          "autoexec": {
            "startup": false,
            "wait_interval": 0
          },
          "base_uri": "https://localhost:8080/",
          "height": 282
        },
        "outputId": "162b09bf-55cd-43ac-c334-2e7caf74163d",
        "executionInfo": {
          "status": "ok",
          "timestamp": 1525265584064,
          "user_tz": -600,
          "elapsed": 994,
          "user": {
            "displayName": "Lan",
            "photoUrl": "https://lh3.googleusercontent.com/a/default-user=s128",
            "userId": "106352409797232494979"
          }
        }
      },
      "cell_type": "code",
      "source": [
        "\"\"\"\n",
        "for testing normalization methods on X\n",
        "\"\"\"\n",
        "X_norm = z_score(X, 1)\n",
        "pl.plot(X_norm[800])"
      ],
      "execution_count": 124,
      "outputs": [
        {
          "output_type": "execute_result",
          "data": {
            "text/plain": [
              "[<matplotlib.lines.Line2D at 0x7fa7a437a470>]"
            ]
          },
          "metadata": {
            "tags": []
          },
          "execution_count": 124
        },
        {
          "output_type": "display_data",
          "data": {
            "image/png": "[encoded data removed]",
            "text/plain": [
              "<matplotlib.figure.Figure at 0x7fa7a4405588>"
            ]
          },
          "metadata": {
            "tags": []
          }
        }
      ]
    },
    {
      "metadata": {
        "id": "4XufGTyy7oHe",
        "colab_type": "text"
      },
      "cell_type": "markdown",
      "source": [
        "### train the training data"
      ]
    },
    {
      "metadata": {
        "id": "5Bg6eg4BJV4J",
        "colab_type": "code",
        "colab": {
          "autoexec": {
            "startup": false,
            "wait_interval": 0
          },
          "base_uri": "https://localhost:8080/",
          "height": 368
        },
        "cellView": "code",
        "outputId": "b6173a70-2ede-4fc7-ecad-44ab178cebdb",
        "executionInfo": {
          "status": "ok",
          "timestamp": 1525265600637,
          "user_tz": -600,
          "elapsed": 719,
          "user": {
            "displayName": "Lan",
            "photoUrl": "https://lh3.googleusercontent.com/a/default-user=s128",
            "userId": "106352409797232494979"
          }
        }
      },
      "cell_type": "code",
      "source": [
        "\"\"\"\n",
        "- the X_train is the data to be trained - can be itself, i.e. X_train, or X_norm, etc.\n",
        "- in test_1 = MLP_train(m= ). the m needs to be specified\n",
        "- in test_1.cal, parameters need to be specified\n",
        "- when encountered with runtime warning, it means either the normalization of X is not enough or learning rate is not appropriate\n",
        "\"\"\"\n",
        "X_train = X_norm\n",
        "test_1 = MLP_train(m=10)\n",
        "test_1.cal(mini_batch_size = 10, beta = .8, keep_prob = 1, learning_rate = .005, epochs = 2, hidden_layers = [5])"
      ],
      "execution_count": 125,
      "outputs": [
        {
          "output_type": "stream",
          "text": [
            "Cost after iteration 0: nan\n",
            "Accuracy after iteration 0: 0.000000\n",
            "accuracy:  0.0\n",
            "cost:  386.382842515974\n"
          ],
          "name": "stdout"
        },
        {
          "output_type": "stream",
          "text": [
            "/usr/local/lib/python3.6/dist-packages/ipykernel_launcher.py:41: RuntimeWarning: divide by zero encountered in log\n",
            "/usr/local/lib/python3.6/dist-packages/ipykernel_launcher.py:41: RuntimeWarning: invalid value encountered in multiply\n"
          ],
          "name": "stderr"
        },
        {
          "output_type": "display_data",
          "data": {
            "image/png": "[encoded data removed]",
            "text/plain": [
              "<matplotlib.figure.Figure at 0x7fa7a44055c0>"
            ]
          },
          "metadata": {
            "tags": []
          }
        }
      ]
    },
    {
      "metadata": {
        "id": "Zwut_stWllMu",
        "colab_type": "code",
        "colab": {
          "autoexec": {
            "startup": false,
            "wait_interval": 0
          }
        },
        "cellView": "form"
      },
      "cell_type": "code",
      "source": [
        "#@title\n",
        "test = MLP_train_random(m=100, num_features = 5, yn = 4)\n",
        "test.cal(mini_batch_size = 100, beta = 0.8, keep_prob = 1, learning_rate = 0.08, epochs = 500000, hidden_layers = [2])"
      ],
      "execution_count": 0,
      "outputs": []
    },
    {
      "metadata": {
        "id": "Iq92ijJ5N4wI",
        "colab_type": "code",
        "colab": {
          "autoexec": {
            "startup": false,
            "wait_interval": 0
          }
        },
        "cellView": "form"
      },
      "cell_type": "code",
      "source": [
        "#@title\n",
        "\n",
        "class MLP_train_random():\n",
        "    \"\"\"\n",
        "    hidden layers - a python list\n",
        "    \"\"\"\n",
        "    def __init__(self, m, num_features, yn):\n",
        "        \n",
        "        \n",
        "          \n",
        "        self.m = m\n",
        "        self.num_features = num_features\n",
        "        self.yn = yn\n",
        "        np.random.seed(1)\n",
        "        self.X_train = np.random.randint(num_features, size = (m, num_features))\n",
        "        self.labels_train = np.random.randint(yn, size = (m))\n",
        "    def cal(self, mini_batch_size = 1, beta = .8, keep_prob = 1, learning_rate = .005, epochs = 100, hidden_layers = None):\n",
        "      \n",
        "        m = self.m\n",
        "        num_features = self.num_features\n",
        "        yn = self.yn\n",
        "        \n",
        "        if mini_batch_size > m: \n",
        "          raise ValueError('mini_batch_size too big')\n",
        "         \n",
        "        if hidden_layers == None:\n",
        "            layers_number = [num_features, yn]\n",
        "        else:\n",
        "            layers_number = [num_features] + hidden_layers + [yn]\n",
        "          \n",
        "        case = MLP(layers_number)\n",
        "        cost, accuracy = case.fit(self.X_train, self.labels_train, learning_rate, epochs, keep_prob, beta, mini_batch_size, X_test = None, labels_test= None)\n",
        "\n",
        "        %matplotlib inline\n",
        "        \n",
        "        pl.plot(cost)\n",
        "        pl.plot(accuracy)\n",
        "  "
      ],
      "execution_count": 0,
      "outputs": []
    },
    {
      "metadata": {
        "id": "C00Q_2wSyT5z",
        "colab_type": "text"
      },
      "cell_type": "markdown",
      "source": [
        "### full printing model: below code is just the above code with printing funcitons: intended for testing: it can overwrite the first three blocks"
      ]
    },
    {
      "metadata": {
        "id": "R0p06M4XyTBy",
        "colab_type": "code",
        "colab": {
          "autoexec": {
            "startup": false,
            "wait_interval": 0
          }
        }
      },
      "cell_type": "code",
      "source": [
        "import numpy as np\n",
        "import matplotlib.pyplot as pl\n",
        "import math\n",
        "\n",
        "class Activation(object):\n",
        "\n",
        "      \n",
        "    def __relu(self,x):\n",
        "        \n",
        "        return np.maximum(0,x)\n",
        "      \n",
        "    def __relu_deriv(self,a):\n",
        "        a[a>0]=1\n",
        "        a[a<=0]=0\n",
        "        return a\n",
        "      \n",
        "    def __softmax(self, x):\n",
        "        \"\"\"\n",
        "        x is of shape(m,n_in)\n",
        "        \"\"\"\n",
        "        y= np.exp(x)/np.sum(np.exp(x),axis=1).reshape(-1,1)\n",
        "        assert(y.shape == x.shape)\n",
        "        \n",
        "        return y\n",
        "      \n",
        "    def __softmax_deriv(self, a):\n",
        "        \n",
        "        y = a*(1-a)\n",
        "        assert(y.shape == a.shape)\n",
        "        return y\n",
        "\n",
        "    def __init__(self,activation='relu'):\n",
        "        if activation == 'softmax':\n",
        "            self.f = self.__softmax\n",
        "            self.f_deriv = self.__softmax_deriv\n",
        "        elif activation == 'relu':\n",
        "            self.f = self.__relu\n",
        "            self.f_deriv = self.__relu_deriv\n",
        "            \n",
        "class HiddenLayer(object):    \n",
        "    def __init__(self, n_in, n_out, W=None, b=None, activation = \"relu\" ):\n",
        "        \n",
        "        self.act = activation\n",
        "\n",
        "        self.input=None\n",
        "        self.activation = Activation(activation).f\n",
        "        self.activation_deriv = Activation(activation).f_deriv\n",
        "        # end-snippet-1\n",
        "\n",
        "        # `W` is initialized with `W_values` which is uniformely sampled\n",
        "        # from sqrt(-6./(n_in+n_hidden)) and sqrt(6./(n_in+n_hidden))\n",
        "        # Note : optimal initialization of weights is dependent on the\n",
        "        #        activation function used (among other things).\n",
        "        #        For example, results presented in [Xavier10] suggest that you\n",
        "        #        should use 4 times larger initial weights for sigmoid\n",
        "        #        compared to tanh\n",
        "        #        We have no info for other function, so we use the same as\n",
        "        #        tanh.\n",
        "        np.random.seed(7)\n",
        "        \n",
        "        self.W = np.random.uniform(\n",
        "                low=-np.sqrt(6. / (n_in + n_out)),\n",
        "                high=np.sqrt(6. / (n_in + n_out)),\n",
        "                size=(n_in, n_out)\n",
        "        )\n",
        "\n",
        "       \n",
        "        self.b = np.zeros((1, n_out))\n",
        "        \n",
        "        print('1. initialized W: \\n', self.W)\n",
        "        print('2. initialzied b: \\n', self.b)\n",
        "        \n",
        "        self.grad_W = np.zeros(self.W.shape)\n",
        "        self.grad_b = np.zeros(self.b.shape)\n",
        "        \n",
        "        self.v_dW = np.zeros(self.W.shape)\n",
        "        self.v_db = np.zeros(self.b.shape)\n",
        "        \n",
        "    def forward(self, input, keep_prob):\n",
        "        '''\n",
        "        :type input: numpy.array\n",
        "        :input.shape = (m, n_in), b.shape = (1, n_out), W.shape = (n_in, n_out)\n",
        "        :lin_output.shape = (m, n_out)\n",
        "        '''\n",
        "\n",
        "        lin_output = np.dot(input, self.W) + self.b\n",
        "        \n",
        "        print('forward 1. input: \\n', input)\n",
        "        print('forward 2. W: \\n', self.W)\n",
        "        print('forward 3. b: \\n', self.b)\n",
        "        print('forward 4, lin_output: \\n', lin_output)\n",
        "        \n",
        "        assert(self.W.shape[1] == self.b.shape[1])\n",
        "        assert(input.shape[1] == self.W.shape[0])\n",
        "        assert(input.shape[0] == lin_output.shape[0])\n",
        "        \n",
        "        if self.act == \"softmax\":\n",
        "            keep_prob = 1\n",
        "  \n",
        "        self.output = (\n",
        "            lin_output if self.activation is None\n",
        "            else self.activation(lin_output)\n",
        "        )\n",
        "\n",
        "        output = np.atleast_2d(self.output)\n",
        "\n",
        "        d = np.random.rand(output.shape[0],output.shape[1]) < keep_prob\n",
        "        output = np.multiply(d, output)\n",
        "        output /= keep_prob\n",
        "        print('forward 5, act_output: \\n', output)\n",
        "        assert(output.shape == self.output.shape)\n",
        "\n",
        "        self.input=input\n",
        "        self.output = output\n",
        "        return self.output\n",
        "    \n",
        "    def backward(self, delta, beta, keep_prob):       \n",
        "        \"\"\"\n",
        "        :self.input.shape = (m, n_in)\n",
        "        :delta.shape = (m, n_out)\n",
        "        :self.grad_W.shape = (n_in, n_out)\n",
        "        :self.grad_b.shape = (1, n_out)\n",
        "        :delta_.shape = (m, n_in)\n",
        "        \"\"\"\n",
        "        delta = np.atleast_2d(delta)\n",
        "        self.input = np.atleast_2d(self.input)\n",
        "        assert(self.input.shape[0] == delta.shape[0])\n",
        "        m = self.input.shape[0]\n",
        "        \n",
        "        print('backward 1. delta_in : \\n', delta)\n",
        "        print('backward 2. input : \\n', self.input)\n",
        "        \n",
        "        self.grad_W = self.input.T.dot(delta)/m\n",
        "        self.grad_b = np.sum(delta, axis = 0)/m    \n",
        "        self.grad_b = np.atleast_2d(self.grad_b)\n",
        "        \n",
        "\n",
        "        self.v_dW = beta * self.v_dW + (1-beta) * self.grad_W\n",
        "        self.v_db = beta * self.v_db + (1-beta) * self.grad_b\n",
        "\n",
        "        assert(self.v_dW.shape == self.grad_W.shape)\n",
        "        assert(self.v_db.shape == self.grad_b.shape)\n",
        "        \n",
        "        print('backward 3. self.grad_W  : \\n', self.grad_W )\n",
        "        print('backward 4. self.grad_b : \\n', self.grad_b)\n",
        "        print('backward 5. self.v_dW : \\n', self.v_dW)\n",
        "        print('backward 6. self.v_db : \\n', self.v_db)\n",
        "        \n",
        "        delta_ = delta.dot(self.W.T) * self.activation_deriv(self.input)\n",
        "        delta_ /= keep_prob\n",
        "        assert(delta_.shape == self.input.shape)\n",
        "        \n",
        "        print('backward 7. self.W.T : \\n', self.W.T)\n",
        "        print('backward 8. self.activation_deriv(self.input) : \\n', self.activation_deriv(self.input))\n",
        "        print('backward 9. delta_ : \\n', delta_)\n",
        "        \n",
        "        return delta_\n",
        "\n",
        "class MLP:\n",
        "    \"\"\"\n",
        "    \"\"\"      \n",
        "    def __init__(self, layers):\n",
        "        \"\"\"\n",
        "        :param layers: A list containing the number of units in each layer.\n",
        "        Should be at least two values\n",
        "\n",
        "        \"\"\"        \n",
        "        ### initialize layers\n",
        "\n",
        "        self.layers=[]\n",
        "        self.layers_number = layers\n",
        "        self.params=[]\n",
        "\n",
        "        self.activation= None \n",
        "        \n",
        "        for i in range(len(layers)-2):\n",
        "            print ('layer: ', i)\n",
        "            self.layers.append(HiddenLayer(layers[i],layers[i+1], activation=\"relu\"))\n",
        "\n",
        "        L = len(layers)\n",
        "        print ('layer: ', i)\n",
        "        self.layers.append(HiddenLayer(layers[L-2],layers[L-1], activation=\"softmax\"))\n",
        "            \n",
        "    def forward(self, input, keep_prob):\n",
        "        for layer in self.layers:\n",
        "            output=layer.forward(input, keep_prob)\n",
        "            input=output\n",
        "        \n",
        "        return output\n",
        "    \n",
        "    def criterion_cross_entropy(self, y, y_hat):\n",
        "        \"\"\"\n",
        "        y.shape = y-hat.shape = (m, yn)\n",
        "        delta.shape = (m, yn)\n",
        "        \"\"\"\n",
        "      \n",
        "        assert(y.shape == y_hat.shape)\n",
        "        \n",
        "        activation_deriv=Activation(\"softmax\").f_deriv\n",
        "        \n",
        "        loss = -np.sum(np.log(y_hat) * y) \n",
        "                \n",
        "        error = y-y_hat\n",
        "        \n",
        "        delta = error*activation_deriv(y_hat)  \n",
        "        \n",
        "        print('criterion_cross_entropy 1. y: \\n', y)\n",
        "        print('criterion_cross_entropy 2. y_hat: \\n', y_hat)\n",
        "        print('criterion_cross_entropy 3. activation_deriv: \\n', activation_deriv)\n",
        "        print('criterion_cross_entropy 4. loss: \\n', loss)\n",
        "        print('criterion_cross_entropy 5. error: \\n', error)\n",
        "        print('criterion_cross_entropy 6. delta: \\n', delta)\n",
        "        \n",
        "        \n",
        "        assert(delta.shape == y.shape)\n",
        "        return loss, delta\n",
        "      \n",
        "    \n",
        "    def backward(self,delta, beta, keep_prob):        \n",
        "        for layer in reversed(self.layers):\n",
        "            delta=layer.backward(delta, beta, keep_prob)\n",
        "            \n",
        "    def update(self,lr):\n",
        "        \"\"\"\n",
        "        v_db.shape = (m, n_out)\n",
        "        b.shape = (1, n_out)\n",
        "        \"\"\"\n",
        "        for layer in self.layers:\n",
        "            print('update 1. layer.W: \\n', layer.W)\n",
        "            print('update 2. layer.b: \\n', layer.b)\n",
        "            layer.W += lr * layer.v_dW                   \n",
        "            layer.b += lr * layer.v_db\n",
        "            \n",
        "            print('update 3. layer.v_dW : \\n', layer.v_dW)\n",
        "            print('update 4. layer.v_db: \\n', layer.v_db)\n",
        "            print('update 5. layer.W: \\n', layer.W)\n",
        "            print('update 6. layer.b: \\n', layer.b)\n",
        "            \n",
        "   \n",
        "    def create_mini_batch(self, mini_batch_size, labels, X, y, yn, num_features, m):\n",
        "        \"\"\"\n",
        "        \n",
        "        \"\"\"\n",
        "        #initializations\n",
        "        np.random.seed(1)\n",
        "\n",
        "        mini_batches = []            \n",
        "        permutation = list(np.random.permutation(m))\n",
        "        shuffled_X = X[permutation, :]\n",
        "        shuffled_y = y[permutation, :]\n",
        "        \n",
        "        labels = labels[permutation]\n",
        "        mini_batches_labels = labels\n",
        "\n",
        "        num_com_batches = math.floor(m/mini_batch_size)\n",
        "        \n",
        "        for k in range(0, num_com_batches):\n",
        "            mini_batch_X = shuffled_X[k*mini_batch_size:(k+1)* mini_batch_size, : ]\n",
        "            mini_batch_y = shuffled_y[k*mini_batch_size:(k+1)* mini_batch_size, : ]\n",
        "            mini_batch = (mini_batch_X, mini_batch_y)\n",
        "            mini_batches.append(mini_batch)\n",
        "            assert(mini_batch_X.shape == (mini_batch_size, num_features))\n",
        "            assert(mini_batch_y.shape == (mini_batch_size, yn))\n",
        "            \n",
        "        if m % mini_batch_size !=0: \n",
        "            mini_batch_X = shuffled_X[(k+1)*mini_batch_size:, : ]\n",
        "            mini_batch_y = shuffled_y[(k+1)*mini_batch_size:, : ]\n",
        "            mini_batch = (mini_batch_X, mini_batch_y)\n",
        "            mini_batches.append(mini_batch)\n",
        "            \n",
        "        return mini_batches, mini_batches_labels\n",
        "      \n",
        "    def fit_pre_processing(self, X, labels, epochs):\n",
        "      \n",
        "        labels = labels.flatten()\n",
        "        assert(X.shape[0] == labels.shape[0])\n",
        "\n",
        "        y = (np.arange(self.layers_number[-1]) == labels[:, None]).astype(float)\n",
        "        yn = y.shape[1]\n",
        "        assert(y.shape[0] == X.shape[0])\n",
        "                \n",
        "        num_features = X.shape[1]       \n",
        "        m = X.shape[0]\n",
        "        \n",
        "        to_return_cost = np.zeros(epochs)\n",
        "        to_return_accuracy = np.zeros(epochs)\n",
        "        \n",
        "        return y, yn, num_features, m, to_return_cost, to_return_accuracy\n",
        "      \n",
        "    def fit(self, X, labels, learning_rate=0.1, epochs=100, keep_prob = 1, beta=0, mini_batch_size = 1, X_test = None, labels_test = None, ):\n",
        "        \n",
        "        \"\"\"\n",
        "        :X.shape = (m, num_features)\n",
        "        :labels.shape = (m, 1) / (m,)\n",
        "        :y.shape = (m, yn)\n",
        "        :y_hat.shape = y.shape\n",
        "        \"\"\"\n",
        "        y, yn, num_features, m, to_return_cost, to_return_accuracy = self.fit_pre_processing(X, labels, epochs)\n",
        "        \n",
        "        if X_test and labels_test:\n",
        "            y_test, yn_test, num_features_test, m_test, to_return_cost_test, to_return_accuracy_test = self.fit_pre_processing(X_test, labels_test, epochs)\n",
        "\n",
        "            assert(num_features == num_features_test)\n",
        "            assert(yn == yn_test)\n",
        "\n",
        "            num_features_test = num_features\n",
        "            yn_test = yn\n",
        "\n",
        "        mini_batches, mini_batches_labels = self.create_mini_batch(mini_batch_size, labels, X, y, yn, num_features, m)\n",
        "\n",
        "        for k in range(epochs):\n",
        "          \n",
        "            print('epoch ', k, ':')\n",
        "            y_hat_labels = []\n",
        "\n",
        "            for mini_batch in mini_batches:\n",
        "                \n",
        "                mini_batch_X, mini_batch_y = mini_batch\n",
        "                \n",
        "                mini_batch_y_hat = self.forward(mini_batch_X, keep_prob)\n",
        "                \n",
        "                loss, delta=self.criterion_cross_entropy(mini_batch_y, mini_batch_y_hat)\n",
        "                \n",
        "                self.backward(delta, beta, keep_prob)\n",
        "                \n",
        "                self.update(learning_rate)\n",
        "                \n",
        "                y_hat_label = mini_batch_y_hat.argmax(axis = 1)\n",
        "                \n",
        "                y_hat_labels = np.append(y_hat_labels, y_hat_label)\n",
        "    \n",
        "            to_return_cost[k] = np.mean(loss)\n",
        "            \n",
        "            assert(len(y_hat_labels) == len(mini_batches_labels))\n",
        "            to_return_accuracy[k] = str(np.sum((y_hat_labels == mini_batches_labels)/m)) \n",
        "            \n",
        "            if X_test and labels_test:\n",
        "              \n",
        "                y_hat_test = self.forward(X_test, keep_prob = 1)\n",
        "                \n",
        "                loss_test, delta_test=self.criterion_cross_entropy(y_test, y_hat_test)\n",
        "                \n",
        "                y_hat_label_test = y_hat_test.argmax(axis = 1)\n",
        "                \n",
        "                assert(len(y_hat_label_test) == len(labels_test))\n",
        "                \n",
        "                to_return_cost_test[k] = np.mean(loss_test)\n",
        "                \n",
        "                to_return_accuracy_test[k] = str(np.sum((y_hat_label_test == labels_test)/m_test))\n",
        "            \n",
        "            if k % 100 ==0:\n",
        "                print(\"Cost after iteration %i: %f\" %(k, to_return_cost[k]))\n",
        "                print(\"Accuracy after iteration %i: %f\" %(k, to_return_accuracy[k]))\n",
        "\n",
        "        print(\"accuracy: \", to_return_accuracy[k])\n",
        "        print(\"cost: \", to_return_cost[k])\n",
        "        if X_test and labels_test: \n",
        "            print(\"accuracy_test: \", to_return_accuracy_test[k])\n",
        "            print(\"cost_test: \", to_return_cost_test[k])\n",
        "        \n",
        "        if X_test and labels_test:\n",
        "            return to_return_cost, to_return_accuracy, to_return_cost_test, to_return_accuracy_test, y_hat_label_test        \n",
        "        else:\n",
        "            return to_return_cost, to_return_accuracy\n"
      ],
      "execution_count": 0,
      "outputs": []
    }
  ]
}