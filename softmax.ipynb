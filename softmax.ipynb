{
  "nbformat": 4,
  "nbformat_minor": 0,
  "metadata": {
    "colab": {
      "name": "softmax.ipynb",
      "version": "0.3.2",
      "views": {},
      "default_view": {},
      "provenance": [],
      "collapsed_sections": []
    }
  },
  "cells": [
    {
      "metadata": {
        "id": "MotBNCuImBVi",
        "colab_type": "code",
        "colab": {
          "autoexec": {
            "startup": false,
            "wait_interval": 0
          }
        }
      },
      "cell_type": "code",
      "source": [
        "def relu(Z):\n",
        "  \n",
        "  \"\"\"\n",
        "  Arguments:\n",
        "  Z -- output of linear layer, with shape(n,m), n is number of units\n",
        "  \n",
        "  Returns:\n",
        "  A -- relu result of Z\n",
        "  cache -- \n",
        "  \"\"\"\n",
        "  \n",
        "  A=np.maximum(0,Z)\n",
        "  \n",
        "  assert(A.shape == Z.shape)\n",
        "  \n",
        "  cache = Z\n",
        "  return A, cache"
      ],
      "execution_count": 0,
      "outputs": []
    },
    {
      "metadata": {
        "id": "qvg5eSLDsmah",
        "colab_type": "code",
        "colab": {
          "autoexec": {
            "startup": false,
            "wait_interval": 0
          },
          "base_uri": "https://localhost:8080/",
          "height": 85
        },
        "outputId": "90ef9515-8561-465a-ff4c-fb5829f4eb5e",
        "executionInfo": {
          "status": "ok",
          "timestamp": 1524457771774,
          "user_tz": -600,
          "elapsed": 743,
          "user": {
            "displayName": "Lan",
            "photoUrl": "https://lh3.googleusercontent.com/a/default-user=s128",
            "userId": "106352409797232494979"
          }
        }
      },
      "cell_type": "code",
      "source": [
        "\n",
        "def relu_backward(dA, cache):\n",
        "    \"\"\"\n",
        "    Implement the backward propagation for a single RELU unit.\n",
        " \n",
        "    Arguments:\n",
        "    dA -- post-activation gradient, of any shape\n",
        "    cache -- 'Z' where we store for computing backward propagation efficiently\n",
        "\n",
        "    Returns:\n",
        "    dZ -- Gradient of the cost with respect to Z\n",
        "    \"\"\"\n",
        "    \n",
        "    Z = cache\n",
        "    dZ = np.array(dA, copy=True) # just converting dz to a correct object.\n",
        "    \n",
        "    # When z <= 0, you should set dz to 0 as well. \n",
        "    dZ[Z <= 0] = 0\n",
        "    \n",
        "    assert (dZ.shape == Z.shape)\n",
        "    \n",
        "    return dZ\n",
        "  \n",
        " "
      ],
      "execution_count": 120,
      "outputs": [
        {
          "output_type": "execute_result",
          "data": {
            "text/plain": [
              "array([[0, 1, 3],\n",
              "       [2, 2, 3],\n",
              "       [2, 1, 3],\n",
              "       [5, 1, 3]])"
            ]
          },
          "metadata": {
            "tags": []
          },
          "execution_count": 120
        }
      ]
    },
    {
      "metadata": {
        "id": "W5F3EU_0LDr3",
        "colab_type": "code",
        "colab": {
          "autoexec": {
            "startup": false,
            "wait_interval": 0
          }
        }
      },
      "cell_type": "code",
      "source": [
        "def softmax(Z):\n",
        "  '''\n",
        "  implements softmax funciton\n",
        "  \n",
        "  Arguments:\n",
        "  Z -- input as an array of shape(n,1)\n",
        "  \n",
        "  Returns:\n",
        "  A -- softmax result of array z, same shape as z\n",
        "  cache -- A. \n",
        "  '''\n",
        "  A=np.exp(Z)/np.sum(np.exp(Z),axis=0)\n",
        "  cache=Z\n",
        "  assert(A.shape == Z.shape)\n",
        "  return A, cache"
      ],
      "execution_count": 0,
      "outputs": []
    },
    {
      "metadata": {
        "id": "buCOMoM0Tbfc",
        "colab_type": "code",
        "colab": {
          "autoexec": {
            "startup": false,
            "wait_interval": 0
          },
          "base_uri": "https://localhost:8080/",
          "height": 34
        },
        "outputId": "04ab46e8-a22e-4a95-c2f8-5e20386c9e36",
        "executionInfo": {
          "status": "ok",
          "timestamp": 1524399996718,
          "user_tz": -600,
          "elapsed": 675,
          "user": {
            "displayName": "Lan",
            "photoUrl": "https://lh3.googleusercontent.com/a/default-user=s128",
            "userId": "106352409797232494979"
          }
        }
      },
      "cell_type": "code",
      "source": [
        "def softmax_to_label(A):\n",
        "  p=A.argmax(axis=0)\n",
        "  return p\n",
        "print(softmax_to_label(q))"
      ],
      "execution_count": 50,
      "outputs": [
        {
          "output_type": "stream",
          "text": [
            "[3 1 0]\n"
          ],
          "name": "stdout"
        }
      ]
    },
    {
      "metadata": {
        "id": "XFVjXGq-P_28",
        "colab_type": "code",
        "colab": {
          "autoexec": {
            "startup": false,
            "wait_interval": 0
          }
        }
      },
      "cell_type": "code",
      "source": [
        "def softmax_backward(Y, cache):\n",
        "  \"\"\"\n",
        "  softmax backward for \n",
        "  \n",
        "  \"\"\"\n",
        "  \n",
        "  Z = cache\n",
        "  \n",
        "  dZ = softmax(Z)-Y "
      ],
      "execution_count": 0,
      "outputs": []
    },
    {
      "metadata": {
        "id": "mZ8AT4z9DeSX",
        "colab_type": "code",
        "colab": {
          "autoexec": {
            "startup": false,
            "wait_interval": 0
          }
        }
      },
      "cell_type": "code",
      "source": [
        "def cross_entropy(AL, Y):\n",
        "  \"\"\"\n",
        "  Calculate cross entropy\n",
        "  \n",
        "  Arguments:\n",
        "  AL -- output of model:probability vector, shape (10, m)\n",
        "  Y -- true label vector, shape of (10,m)\n",
        "  \n",
        "  Returns:\n",
        "  cost -- cross entropy cost\n",
        "  \n",
        "  \"\"\"\n",
        "  \n",
        "  m=Y.shape[1]\n",
        "  assert (AL.shape == Y.shape)\n",
        "  cost = -np.sum(np.log(AL)*Y)/m\n",
        "  \n",
        "  #cost =np.squeeze(cost)\n",
        "  #assert (cost.shape == ())\n",
        "  return cost"
      ],
      "execution_count": 0,
      "outputs": []
    },
    {
      "metadata": {
        "id": "qHpZkr22FkFK",
        "colab_type": "code",
        "colab": {
          "autoexec": {
            "startup": false,
            "wait_interval": 0
          }
        }
      },
      "cell_type": "code",
      "source": [
        "import numpy as np\n",
        "AL=np.random.rand(10,2)\n",
        "AL\n",
        "\n",
        "Y=np.random.rand(10,2)\n"
      ],
      "execution_count": 0,
      "outputs": []
    },
    {
      "metadata": {
        "id": "qCwCquOfK_pn",
        "colab_type": "code",
        "colab": {
          "autoexec": {
            "startup": false,
            "wait_interval": 0
          },
          "base_uri": "https://localhost:8080/",
          "height": 374
        },
        "outputId": "e74d23fb-34c9-4f6a-c98b-890e564ec81f",
        "executionInfo": {
          "status": "ok",
          "timestamp": 1524448182691,
          "user_tz": -600,
          "elapsed": 709,
          "user": {
            "displayName": "Lan",
            "photoUrl": "https://lh3.googleusercontent.com/a/default-user=s128",
            "userId": "106352409797232494979"
          }
        }
      },
      "cell_type": "code",
      "source": [
        "sum=0\n",
        "for i,j in zip(AL[:,0],Y[:,0]):\n",
        "  print(np.log(i)*j)\n",
        "  sum+=np.log(i)*j\n",
        "for i,j in zip(AL[:,1],Y[:,1]):\n",
        "  print(np.log(i)*j)\n",
        "  sum+=np.log(i)*j\n",
        "-sum/2"
      ],
      "execution_count": 83,
      "outputs": [
        {
          "output_type": "stream",
          "text": [
            "-2.070676304725382\n",
            "-0.12242334322964535\n",
            "-0.5337503172670137\n",
            "-0.4954385158793055\n",
            "-0.39008039781808346\n",
            "-0.14470585316615525\n",
            "-0.10771245757524081\n",
            "-0.5192014409628475\n",
            "-0.024243082213134842\n",
            "-0.8705443534852548\n",
            "-0.20301065396042672\n",
            "-0.10858596937551737\n",
            "-0.07412327842500935\n",
            "-1.1473955390071593\n",
            "-0.10819410093309748\n",
            "-0.047213625645892564\n",
            "-0.6378015938057204\n",
            "-0.10422165444358063\n",
            "-0.0004193959895334778\n",
            "-0.3486660445891896\n"
          ],
          "name": "stdout"
        },
        {
          "output_type": "execute_result",
          "data": {
            "text/plain": [
              "4.029203961248596"
            ]
          },
          "metadata": {
            "tags": []
          },
          "execution_count": 83
        }
      ]
    },
    {
      "metadata": {
        "id": "JIk82nbhF-P0",
        "colab_type": "code",
        "colab": {
          "autoexec": {
            "startup": false,
            "wait_interval": 0
          },
          "base_uri": "https://localhost:8080/",
          "height": 34
        },
        "outputId": "cef2c549-9e16-4670-ca5e-fd314aeb8589",
        "executionInfo": {
          "status": "ok",
          "timestamp": 1524447995229,
          "user_tz": -600,
          "elapsed": 757,
          "user": {
            "displayName": "Lan",
            "photoUrl": "https://lh3.googleusercontent.com/a/default-user=s128",
            "userId": "106352409797232494979"
          }
        }
      },
      "cell_type": "code",
      "source": [
        "(-np.dot(Y[:,0],np.log(AL[:,0]).T)-np.dot(Y[:,1],np.log(AL[:,1]).T))/2"
      ],
      "execution_count": 79,
      "outputs": [
        {
          "output_type": "execute_result",
          "data": {
            "text/plain": [
              "4.029203961248594"
            ]
          },
          "metadata": {
            "tags": []
          },
          "execution_count": 79
        }
      ]
    },
    {
      "metadata": {
        "id": "cweiVbqFKGfZ",
        "colab_type": "code",
        "colab": {
          "autoexec": {
            "startup": false,
            "wait_interval": 0
          },
          "base_uri": "https://localhost:8080/",
          "height": 51
        },
        "outputId": "90566db9-06e8-4758-fd67-c42fbe175819",
        "executionInfo": {
          "status": "ok",
          "timestamp": 1524448092350,
          "user_tz": -600,
          "elapsed": 693,
          "user": {
            "displayName": "Lan",
            "photoUrl": "https://lh3.googleusercontent.com/a/default-user=s128",
            "userId": "106352409797232494979"
          }
        }
      },
      "cell_type": "code",
      "source": [
        "np.dot(np.log(AL).T,Y)"
      ],
      "execution_count": 81,
      "outputs": [
        {
          "output_type": "execute_result",
          "data": {
            "text/plain": [
              "array([[-5.27877607, -3.02392247],\n",
              "       [-4.3085474 , -2.77963186]])"
            ]
          },
          "metadata": {
            "tags": []
          },
          "execution_count": 81
        }
      ]
    },
    {
      "metadata": {
        "id": "hclooT8EMDjo",
        "colab_type": "code",
        "colab": {
          "autoexec": {
            "startup": false,
            "wait_interval": 0
          },
          "base_uri": "https://localhost:8080/",
          "height": 34
        },
        "outputId": "11c76859-707e-4a56-ed7e-dee36910a1b6",
        "executionInfo": {
          "status": "ok",
          "timestamp": 1524448747948,
          "user_tz": -600,
          "elapsed": 659,
          "user": {
            "displayName": "Lan",
            "photoUrl": "https://lh3.googleusercontent.com/a/default-user=s128",
            "userId": "106352409797232494979"
          }
        }
      },
      "cell_type": "code",
      "source": [
        "cross_entropy(AL,Y)"
      ],
      "execution_count": 88,
      "outputs": [
        {
          "output_type": "execute_result",
          "data": {
            "text/plain": [
              "4.029203961248595"
            ]
          },
          "metadata": {
            "tags": []
          },
          "execution_count": 88
        }
      ]
    },
    {
      "metadata": {
        "id": "4_M13nEJSMZt",
        "colab_type": "code",
        "colab": {
          "autoexec": {
            "startup": false,
            "wait_interval": 0
          }
        }
      },
      "cell_type": "code",
      "source": [
        "def L_model_backward(AL, Y, caches):\n",
        "  \"\"\"\n",
        "  Arguments:\n",
        "  AL --probability vector, output of forward prop, shape of (10,m)\n",
        "  Y -- true label vector, same shape as AL\n",
        "  caches -- \n",
        "  \"\"\"\n",
        "  grads={}\n",
        "  L=len(caches)\n",
        "  m=AL.shape[1]\n",
        "  \n",
        "  dAL = -np.divide(Y,AL)"
      ],
      "execution_count": 0,
      "outputs": []
    },
    {
      "metadata": {
        "id": "tvN1786Nl5i6",
        "colab_type": "code",
        "colab": {
          "autoexec": {
            "startup": false,
            "wait_interval": 0
          }
        }
      },
      "cell_type": "code",
      "source": [
        ""
      ],
      "execution_count": 0,
      "outputs": []
    },
    {
      "metadata": {
        "id": "4Mvp9qUNl5UC",
        "colab_type": "code",
        "colab": {
          "autoexec": {
            "startup": false,
            "wait_interval": 0
          }
        }
      },
      "cell_type": "code",
      "source": [
        "def initialize_parameters_deep(layer_dims):\n",
        "  \"\"\"\n",
        "  Arguments:\n",
        "  layer_dims -- python array containing dimensions of each layer\n",
        "  \n",
        "  Returns:\n",
        "  parameters -- dictionary\n",
        "                Wl -- weight shape of (layer_dims[l], layer_dims[l-1])\n",
        "                bl -- bias shape of (layer_dims[l],1)\n",
        "                \n",
        "  \"\"\"\n",
        "  np.random.seed(1)\n",
        "  parameters = {}\n",
        "  \n",
        "  L=len(layer_dims)\n",
        "  \n",
        "  for l in np.arange(1,L,1):\n",
        "    parameters['W'+str(l)] = np.random.rand(layer_dims[l], layer_dims[l-1]) / np.sqrt(layer_dims[l-1])\n",
        "    parameters['b'+str(l)] = np.zeros((layer_dims[l],1))\n",
        "  \n",
        "    assert(parameters['W'+str(l)].shape == (layer_dims[l], layer_dims[l-1]))\n",
        "    assert(parameters['b'+str(l)].shape == (layer_dims[l], 1))\n",
        "  \n",
        "  return parameters"
      ],
      "execution_count": 0,
      "outputs": []
    },
    {
      "metadata": {
        "id": "T8gpWakb7QBF",
        "colab_type": "code",
        "colab": {
          "autoexec": {
            "startup": false,
            "wait_interval": 0
          }
        }
      },
      "cell_type": "code",
      "source": [
        "def linear_forward(A, W, b):\n",
        "  \"\"\"\n",
        "  Arguments:\n",
        "  A -- activation result from layer l-1, shape of (layer_dims[l-1], m)\n",
        "  W -- weight for layer l shape of (layer_dims[l], layer_dims[l-1])\n",
        "  b -- bias for layer l shape of (layer_dims[l], 1)\n",
        "  \n",
        "  Returns:\n",
        "  Z -- linear result shape of (layer_dims[l], m)\n",
        "  cache -- A,W,b \n",
        "  \"\"\"\n",
        "  \n",
        "  \n",
        "  #Z=np.dot(W,A) + b\n",
        "  \n",
        "  Z = W.dot(A) +b\n",
        "  \n",
        "  assert(Z.shape == (W.shape[0], A.shape[1]) )\n",
        "  cache = (A, W, b)\n",
        "  \n",
        "  return Z, cache\n",
        "  \n",
        "  \n",
        "  "
      ],
      "execution_count": 0,
      "outputs": []
    },
    {
      "metadata": {
        "id": "DgVxtPH--v6h",
        "colab_type": "code",
        "colab": {
          "autoexec": {
            "startup": false,
            "wait_interval": 0
          },
          "base_uri": "https://localhost:8080/",
          "height": 187
        },
        "outputId": "6ce82242-7ea8-45cf-89bc-8cee684dab07",
        "executionInfo": {
          "status": "ok",
          "timestamp": 1524464211756,
          "user_tz": -600,
          "elapsed": 981,
          "user": {
            "displayName": "Lan",
            "photoUrl": "https://lh3.googleusercontent.com/a/default-user=s128",
            "userId": "106352409797232494979"
          }
        }
      },
      "cell_type": "code",
      "source": [
        "np.random.seed(0)\n",
        "A1=np.random.randint(5,size =(4,2))\n",
        "W=np.random.rand(3,4)\n",
        "b=np.random.rand(3,1)\n",
        "\n",
        "linear_forward(A1,W,b)"
      ],
      "execution_count": 204,
      "outputs": [
        {
          "output_type": "execute_result",
          "data": {
            "text/plain": [
              "(array([[ 9.24513744,  5.18402155],\n",
              "        [10.10452066,  4.87593475],\n",
              "        [ 4.0826652 ,  2.92546433]]), (array([[4, 0],\n",
              "         [3, 3],\n",
              "         [3, 1],\n",
              "         [3, 2]]), array([[0.43758721, 0.891773  , 0.96366276, 0.38344152],\n",
              "         [0.79172504, 0.52889492, 0.56804456, 0.92559664],\n",
              "         [0.07103606, 0.0871293 , 0.0202184 , 0.83261985]]), array([[0.77815675],\n",
              "         [0.87001215],\n",
              "         [0.97861834]])))"
            ]
          },
          "metadata": {
            "tags": []
          },
          "execution_count": 204
        }
      ]
    },
    {
      "metadata": {
        "id": "d4raBHxuAWG8",
        "colab_type": "code",
        "colab": {
          "autoexec": {
            "startup": false,
            "wait_interval": 0
          }
        }
      },
      "cell_type": "code",
      "source": [
        "def relu(Z):\n",
        "  \n",
        "  \"\"\"\n",
        "  Arguments:\n",
        "  Z -- output of linear layer, with shape(n,m), n is number of units\n",
        "  \n",
        "  Returns:\n",
        "  A -- relu result of Z\n",
        "  cache -- \n",
        "  \"\"\"\n",
        "  \n",
        "  A=np.maximum(0,Z)\n",
        "  \n",
        "  assert(A.shape == Z.shape)\n",
        "  \n",
        "  cache = Z\n",
        "  return A, cache\n",
        "\n",
        "def linear_activation_forward(A_prev, W, b, activation):\n",
        "  \"\"\"\n",
        "  \n",
        "  Arguments:\n",
        "  A_prev -- previous A result from layer l-1, shape of (layer_dims[l-1], m)\n",
        "  W -- weight for layer l shape of (layer_dims[l], layer_dims[l-1])\n",
        "  b -- bias for layer l shape of (layer_dims[l], 1)\n",
        "  activation -- relu/softmax\n",
        "  \n",
        "  Returns:\n",
        "  A -- \n",
        "  cache -- \n",
        "  \"\"\"\n",
        "  \n",
        "  Z, linear_cache = linear_forward(A_prev, W, b)\n",
        "  \n",
        "  if activation == \"relu\":\n",
        "    A, activation_cache = relu(Z)\n",
        "  if activation == \"softmax\":\n",
        "    A, activation_cache = softmax(Z)\n",
        "  \n",
        "  cache = (linear_cache, activation_cache)\n",
        "  return A, cache"
      ],
      "execution_count": 0,
      "outputs": []
    },
    {
      "metadata": {
        "id": "u1IcC8sVLlqa",
        "colab_type": "code",
        "colab": {
          "autoexec": {
            "startup": false,
            "wait_interval": 0
          },
          "base_uri": "https://localhost:8080/",
          "height": 85
        },
        "outputId": "b99a5890-120a-45f0-e773-3e0013bdfb4a",
        "executionInfo": {
          "status": "ok",
          "timestamp": 1524464774247,
          "user_tz": -600,
          "elapsed": 812,
          "user": {
            "displayName": "Lan",
            "photoUrl": "https://lh3.googleusercontent.com/a/default-user=s128",
            "userId": "106352409797232494979"
          }
        }
      },
      "cell_type": "code",
      "source": [
        "A1"
      ],
      "execution_count": 219,
      "outputs": [
        {
          "output_type": "execute_result",
          "data": {
            "text/plain": [
              "array([[4, 0],\n",
              "       [3, 3],\n",
              "       [3, 1],\n",
              "       [3, 2]])"
            ]
          },
          "metadata": {
            "tags": []
          },
          "execution_count": 219
        }
      ]
    },
    {
      "metadata": {
        "id": "BwDLW0WJLnIv",
        "colab_type": "code",
        "colab": {
          "autoexec": {
            "startup": false,
            "wait_interval": 0
          },
          "base_uri": "https://localhost:8080/",
          "height": 68
        },
        "outputId": "11e700e5-efe5-4bf9-9bd6-b9c9d4e3d6c9",
        "executionInfo": {
          "status": "ok",
          "timestamp": 1524464837723,
          "user_tz": -600,
          "elapsed": 702,
          "user": {
            "displayName": "Lan",
            "photoUrl": "https://lh3.googleusercontent.com/a/default-user=s128",
            "userId": "106352409797232494979"
          }
        }
      },
      "cell_type": "code",
      "source": [
        "W.dot(A1)+b"
      ],
      "execution_count": 223,
      "outputs": [
        {
          "output_type": "execute_result",
          "data": {
            "text/plain": [
              "array([[ 9.24513744,  5.18402155],\n",
              "       [10.10452066,  4.87593475],\n",
              "       [ 4.0826652 ,  2.92546433]])"
            ]
          },
          "metadata": {
            "tags": []
          },
          "execution_count": 223
        }
      ]
    },
    {
      "metadata": {
        "id": "38Ec1LjVLov6",
        "colab_type": "code",
        "colab": {
          "autoexec": {
            "startup": false,
            "wait_interval": 0
          },
          "base_uri": "https://localhost:8080/",
          "height": 68
        },
        "outputId": "ce248d5d-b84a-400c-aa46-9a8d27c46b74",
        "executionInfo": {
          "status": "ok",
          "timestamp": 1524464788178,
          "user_tz": -600,
          "elapsed": 749,
          "user": {
            "displayName": "Lan",
            "photoUrl": "https://lh3.googleusercontent.com/a/default-user=s128",
            "userId": "106352409797232494979"
          }
        }
      },
      "cell_type": "code",
      "source": [
        "b"
      ],
      "execution_count": 221,
      "outputs": [
        {
          "output_type": "execute_result",
          "data": {
            "text/plain": [
              "array([[0.77815675],\n",
              "       [0.87001215],\n",
              "       [0.97861834]])"
            ]
          },
          "metadata": {
            "tags": []
          },
          "execution_count": 221
        }
      ]
    },
    {
      "metadata": {
        "id": "tl12_bl-A6VU",
        "colab_type": "code",
        "colab": {
          "autoexec": {
            "startup": false,
            "wait_interval": 0
          },
          "base_uri": "https://localhost:8080/",
          "height": 238
        },
        "outputId": "03d8e2b6-879e-49fe-e104-80c1b2c81377",
        "executionInfo": {
          "status": "ok",
          "timestamp": 1524484897923,
          "user_tz": -600,
          "elapsed": 725,
          "user": {
            "displayName": "Lan",
            "photoUrl": "https://lh3.googleusercontent.com/a/default-user=s128",
            "userId": "106352409797232494979"
          }
        }
      },
      "cell_type": "code",
      "source": [
        " linear_activation_forward(A1, W, b, \"relu\")\n"
      ],
      "execution_count": 246,
      "outputs": [
        {
          "output_type": "execute_result",
          "data": {
            "text/plain": [
              "(array([[ 9.24513744,  5.18402155],\n",
              "        [10.10452066,  4.87593475],\n",
              "        [ 4.0826652 ,  2.92546433]]), ((array([[4, 0],\n",
              "          [3, 3],\n",
              "          [3, 1],\n",
              "          [3, 2]]), array([[0.43758721, 0.891773  , 0.96366276, 0.38344152],\n",
              "          [0.79172504, 0.52889492, 0.56804456, 0.92559664],\n",
              "          [0.07103606, 0.0871293 , 0.0202184 , 0.83261985]]), array([[0.77815675],\n",
              "          [0.87001215],\n",
              "          [0.97861834]])),\n",
              "  array([[ 9.24513744,  5.18402155],\n",
              "         [10.10452066,  4.87593475],\n",
              "         [ 4.0826652 ,  2.92546433]])))"
            ]
          },
          "metadata": {
            "tags": []
          },
          "execution_count": 246
        }
      ]
    },
    {
      "metadata": {
        "id": "DafLLO79OnkB",
        "colab_type": "code",
        "colab": {
          "autoexec": {
            "startup": false,
            "wait_interval": 0
          }
        }
      },
      "cell_type": "code",
      "source": [
        "def L_model_forward(X, parameters):\n",
        "  \"\"\"\n",
        "  Arguments:\n",
        "  X -- input data. shape of \n",
        "  parameters -- output from initialize_parameters_deep. dictionary contains:\n",
        "                Wl -- weight shape of (layer_dims[l], layer_dims[l-1])\n",
        "                bl -- bias shape of (layer_dims[l],1)\n",
        "  \n",
        "  Returns:\n",
        "  AL -- final output of shape (layer_dims[l], m)\n",
        "  \"\"\"\n",
        "  L = len(parameters)//2\n",
        "  \n",
        "  assert(X.shape[0] == parameters['W1'].shape[1])\n",
        "  \n",
        "  caches=[]\n",
        "  \n",
        "  A_prev = X\n",
        "  \n",
        "  for l in np.arange(1,L):\n",
        "  \n",
        "    A, linear_activation_cache = linear_activation_forward(A_prev, parameters['W'+str(l)], parameters['b'+str(l)], \"relu\")\n",
        "    A_prev = A\n",
        "    caches.append(linear_activation_cache)\n",
        "    #print(A_prev)\n",
        "  AL, linear_activation_cache =  linear_activation_forward(A_prev, parameters['W'+str(L)], parameters['b'+str(L)], \"softmax\")\n",
        "  caches.append(linear_activation_cache)\n",
        "  \n",
        "  #assert(AL.shape == (,))\n",
        "  return AL, caches"
      ],
      "execution_count": 0,
      "outputs": []
    },
    {
      "metadata": {
        "id": "NJEsoChJVL6_",
        "colab_type": "code",
        "colab": {
          "autoexec": {
            "startup": false,
            "wait_interval": 0
          }
        }
      },
      "cell_type": "code",
      "source": [
        "import numpy as np\n",
        "layer_dims = np.array([3,3,5,10])\n",
        "parameters = initialize_parameters_deep(layer_dims)\n",
        "X=np.array([[1,2,3],[3,3,3]]).T\n"
      ],
      "execution_count": 0,
      "outputs": []
    },
    {
      "metadata": {
        "id": "bu7KgSrzWDqE",
        "colab_type": "code",
        "colab": {
          "autoexec": {
            "startup": false,
            "wait_interval": 0
          },
          "base_uri": "https://localhost:8080/",
          "height": 187
        },
        "outputId": "a15033da-584a-42e5-b275-19dc31ccafeb",
        "executionInfo": {
          "status": "ok",
          "timestamp": 1524486460741,
          "user_tz": -600,
          "elapsed": 653,
          "user": {
            "displayName": "Lan",
            "photoUrl": "https://lh3.googleusercontent.com/a/default-user=s128",
            "userId": "106352409797232494979"
          }
        }
      },
      "cell_type": "code",
      "source": [
        "AL,c = L_model_forward(X, parameters)\n",
        "AL"
      ],
      "execution_count": 296,
      "outputs": [
        {
          "output_type": "execute_result",
          "data": {
            "text/plain": [
              "array([[0.07723564, 0.06601342],\n",
              "       [0.12387982, 0.13197515],\n",
              "       [0.09780823, 0.09122959],\n",
              "       [0.14598184, 0.18562891],\n",
              "       [0.083619  , 0.07400222],\n",
              "       [0.0686272 , 0.05299894],\n",
              "       [0.08917162, 0.08123063],\n",
              "       [0.09937175, 0.09373668],\n",
              "       [0.11341527, 0.12089989],\n",
              "       [0.10088965, 0.10228456]])"
            ]
          },
          "metadata": {
            "tags": []
          },
          "execution_count": 296
        }
      ]
    },
    {
      "metadata": {
        "id": "V3kFXo29ew80",
        "colab_type": "code",
        "colab": {
          "autoexec": {
            "startup": false,
            "wait_interval": 0
          }
        }
      },
      "cell_type": "code",
      "source": [
        "def linear_backward(dZ, cache):\n",
        "  \"\"\"\n",
        "  Arguments:\n",
        "  dZ -- cost gradient with respect to linear output z (layer l)\n",
        "  cache  -- \n",
        "  \n",
        "  Returns -- \n",
        "  \n",
        "  \n",
        "  \"\"\""
      ],
      "execution_count": 0,
      "outputs": []
    },
    {
      "metadata": {
        "id": "c0vCi1T0fywZ",
        "colab_type": "code",
        "colab": {
          "autoexec": {
            "startup": false,
            "wait_interval": 0
          }
        }
      },
      "cell_type": "code",
      "source": [
        "\n"
      ],
      "execution_count": 0,
      "outputs": []
    }
  ]
}