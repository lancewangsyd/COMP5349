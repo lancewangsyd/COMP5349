{
 "cells": [
  {
   "cell_type": "markdown",
   "metadata": {},
   "source": [
    "## 1 - Assignment1 Neural Network model\n",
    "\n"
   ]
  },
  {
   "cell_type": "markdown",
   "metadata": {},
   "source": [
    "### 1.1 Packages####"
   ]
  },
  {
   "cell_type": "code",
   "execution_count": 1,
   "metadata": {
    "collapsed": true
   },
   "outputs": [],
   "source": [
    "import numpy as np\n",
    "import h5py\n",
    "import random"
   ]
  },
  {
   "cell_type": "code",
   "execution_count": 65,
   "metadata": {
    "collapsed": true
   },
   "outputs": [],
   "source": [
    "def vectorized_label(label):\n",
    "    tmp = np.zeros((10, 1))\n",
    "    tmp[label] = 1.0\n",
    "    return tmp"
   ]
  },
  {
   "cell_type": "markdown",
   "metadata": {},
   "source": [
    "### 1.2 Dataset ####\n",
    "Show the first 10 instances and labels."
   ]
  },
  {
   "cell_type": "code",
   "execution_count": 115,
   "metadata": {},
   "outputs": [
    {
     "name": "stdout",
     "output_type": "stream",
     "text": [
      "The first 10 instances: \n",
      "[[ -1.26502938e+02   1.63243234e+03  -1.20922145e+03 ...,   1.11837600e+02\n",
      "    3.57044951e+01  -6.63192504e-01]\n",
      " [  1.40756479e+03  -4.51681446e+02  -2.59769757e+02 ...,   9.24883807e+01\n",
      "   -1.46637001e+02  -7.93095667e+01]\n",
      " [ -7.25430358e+02  -1.10359763e+03   1.07005341e+02 ...,  -2.93622934e+01\n",
      "    1.30540938e+01   2.86296443e+01]\n",
      " ..., \n",
      " [  1.82574270e+03   1.67704384e+03   3.29740502e+02 ...,  -9.53786962e+01\n",
      "   -5.42099830e+01  -8.22305980e+01]\n",
      " [ -1.58283168e+03  -3.88443114e+02   1.14953389e+02 ...,   5.78324789e+01\n",
      "    2.17396631e+00   6.87229558e+01]\n",
      " [ -9.46185395e+02   4.13536641e+02  -5.49866946e+01 ...,   8.39081821e+01\n",
      "   -8.13921414e+01   4.63882409e+01]] \n",
      "\n",
      "The first 10 instances:  [9 0 0 3 0 2 7 2 5 5] \n",
      "\n",
      "The shape of instance is:  (60000, 128)\n",
      "The shape of label is:  (60000,)\n",
      "the size of train data is:  48000\n",
      "the size of train data is:  12000\n"
     ]
    }
   ],
   "source": [
    "with h5py.File('train_128.h5','r') as H:\n",
    "    data = np.copy(H['data'])\n",
    "print(\"The first 10 instances: \")\n",
    "print(data[:10],\"\\n\")\n",
    "with h5py.File('train_label.h5','r') as H:\n",
    "    label = np.copy(H['label'])\n",
    "print(\"The first 10 instances: \",label[:10],\"\\n\")\n",
    "\n",
    "print(\"The shape of instance is: \",data.shape)\n",
    "print(\"The shape of label is: \",label.shape)\n",
    "\n",
    "labels = np.array([vectorized_label(tmp) for tmp in label])\n",
    "data = np.array([np.reshape(tmp, (128, 1)) for tmp in data])\n",
    "train_data = []\n",
    "for a,b in zip(labels[:48000],data[:48000]):\n",
    "    train_data.append((b,a))\n",
    "train_data = np.array(train_data)\n",
    "print(\"the size of train data is: \",len(train_data))\n",
    "\n",
    "test_data = [] \n",
    "for a,b in zip(label[48000:],data[48000:]):\n",
    "    test_data.append((b,a))\n",
    "test_data = np.array(test_data)\n",
    "\n",
    "print(\"the size of train data is: \",len(test_data))\n"
   ]
  },
  {
   "cell_type": "markdown",
   "metadata": {},
   "source": [
    "### 1.3 - Defining the neural network structure ####"
   ]
  },
  {
   "cell_type": "code",
   "execution_count": 92,
   "metadata": {},
   "outputs": [],
   "source": [
    "class Network(object):\n",
    "\n",
    "    def __init__(self, sizes):\n",
    "        \"\"\"\n",
    "        :param sizes: list类型，储存每层神经网络的神经元数目\n",
    "                      譬如说：sizes = [2, 3, 2] 表示输入层有两个神经元、\n",
    "                      隐藏层有3个神经元以及输出层有2个神经元\n",
    "        \"\"\"\n",
    "        # 有几层神经网络\n",
    "        self.num_layers = len(sizes)\n",
    "        self.sizes = sizes\n",
    "        # 除去输入层，随机产生每层中 y 个神经元的 biase 值（0 - 1）\n",
    "        self.biases = [np.random.randn(y, 1) for y in sizes[1:]]\n",
    "        # 随机产生每条连接线的 weight 值（0 - 1）\n",
    "        self.weights = [np.random.randn(y, x)\n",
    "                        for x, y in zip(sizes[:-1], sizes[1:])]\n",
    "\n",
    "    def feedforward(self, a):\n",
    "        \"\"\"\n",
    "        前向传输计算每个神经元的值\n",
    "        :param a: 输入值\n",
    "        :return: 计算后每个神经元的值\n",
    "        \"\"\"\n",
    "        for b, w in zip(self.biases, self.weights):\n",
    "            # 加权求和以及加上 biase\n",
    "            a = sigmoid(np.dot(w, a) + b)\n",
    "        return a\n",
    "\n",
    "    def SGD(self, training_data, epochs, mini_batch_size, eta,\n",
    "            test_data=None):\n",
    "        \"\"\"\n",
    "        随机梯度下降\n",
    "        :param training_data: 输入的训练集\n",
    "        :param epochs: 迭代次数\n",
    "        :param mini_batch_size: 小样本数量\n",
    "        :param eta: 学习率\n",
    "        :param test_data: 测试数据集\n",
    "        \"\"\"\n",
    "        if test_data is not None: \n",
    "            n_test = len(test_data)\n",
    "        n = len(training_data)\n",
    "        for j in range(epochs):\n",
    "            # 搅乱训练集，让其排序顺序发生变化\n",
    "            random.shuffle(training_data)\n",
    "            # 按照小样本数量划分训练集\n",
    "            mini_batches = [\n",
    "                training_data[k:k+mini_batch_size]\n",
    "                for k in range(0, n, mini_batch_size)]\n",
    "            for mini_batch in mini_batches:\n",
    "                # 根据每个小样本来更新 w 和 b，代码在下一段\n",
    "                self.update_mini_batch(mini_batch, eta)\n",
    "            # 输出测试每轮结束后，神经网络的准确度\n",
    "            if test_data is not None:\n",
    "                print(\"Epoch {0}: {1} / {2}\".format(\n",
    "                    j, self.evaluate(test_data), n_test))\n",
    "            else:\n",
    "                print(\"Epoch {0} complete\".format(j))\n",
    "\n",
    "    def update_mini_batch(self, mini_batch, eta):\n",
    "        \"\"\"\n",
    "        更新 w 和 b 的值\n",
    "        :param mini_batch: 一部分的样本\n",
    "        :param eta: 学习率\n",
    "        \"\"\"\n",
    "        # 根据 biases 和 weights 的行列数创建对应的全部元素值为 0 的空矩阵\n",
    "        nabla_b = [np.zeros(b.shape) for b in self.biases]\n",
    "        nabla_w = [np.zeros(w.shape) for w in self.weights]\n",
    "        for x, y in mini_batch:\n",
    "            # 根据样本中的每一个输入 x 的其输出 y，计算 w 和 b 的偏导数\n",
    "            delta_nabla_b, delta_nabla_w = self.backprop(x, y)\n",
    "            # 累加储存偏导值 delta_nabla_b 和 delta_nabla_w\n",
    "            nabla_b = [nb+dnb for nb, dnb in zip(nabla_b, delta_nabla_b)]\n",
    "            nabla_w = [nw+dnw for nw, dnw in zip(nabla_w, delta_nabla_w)]\n",
    "        # 更新根据累加的偏导值更新 w 和 b，这里因为用了小样本，\n",
    "        # 所以 eta 要除于小样本的长度\n",
    "        self.weights = [w-(eta/len(mini_batch))*nw\n",
    "                        for w, nw in zip(self.weights, nabla_w)]\n",
    "        self.biases = [b-(eta/len(mini_batch))*nb\n",
    "                       for b, nb in zip(self.biases, nabla_b)]\n",
    "\n",
    "    def backprop(self, x, y):\n",
    "        \"\"\"\n",
    "        :param x:\n",
    "        :param y:\n",
    "        :return:\n",
    "        \"\"\"\n",
    "        nabla_b = [np.zeros(b.shape) for b in self.biases]\n",
    "        nabla_w = [np.zeros(w.shape) for w in self.weights]\n",
    "        # 前向传输\n",
    "        activation = x\n",
    "        # 储存每层的神经元的值的矩阵，下面循环会 append 每层的神经元的值\n",
    "        activations = [x]\n",
    "        # 储存每个未经过 sigmoid 计算的神经元的值\n",
    "        zs = []\n",
    "        for b, w in zip(self.biases, self.weights):\n",
    "            z = np.dot(w, activation)+b\n",
    "            zs.append(z)\n",
    "            activation = sigmoid(z)\n",
    "            activations.append(activation)\n",
    "        # 求 δ 的值\n",
    "        delta = self.cost_derivative(activations[-1], y) * \\\n",
    "            sigmoid_prime(zs[-1])\n",
    "        nabla_b[-1] = delta\n",
    "        # 乘于前一层的输出值\n",
    "        nabla_w[-1] = np.dot(delta, activations[-2].transpose())\n",
    "        for l in range(2, self.num_layers):\n",
    "            # 从倒数第 **l** 层开始更新，**-l** 是 python 中特有的语法表示从倒数第 l 层开始计算\n",
    "            # 下面这里利用 **l+1** 层的 δ 值来计算 **l** 的 δ 值\n",
    "            z = zs[-l]\n",
    "            sp = sigmoid_prime(z)\n",
    "            delta = np.dot(self.weights[-l+1].transpose(), delta) * sp\n",
    "            nabla_b[-l] = delta\n",
    "            #print(delta.shape)\n",
    "            #print(activations[-l-1].transpose().shape)\n",
    "            nabla_w[-l] = np.dot(delta, activations[-l-1].transpose())\n",
    "            \n",
    "        return (nabla_b, nabla_w)\n",
    "\n",
    "    def evaluate(self, test_data):\n",
    "        # 获得预测结果\n",
    "        test_results = [(np.argmax(self.feedforward(x)), y)\n",
    "                        for (x, y) in test_data]\n",
    "        # 返回正确识别的个数\n",
    "        return sum(int(x == y) for (x, y) in test_results)\n",
    "\n",
    "    def cost_derivative(self, output_activations, y):\n",
    "        \"\"\"\n",
    "        二次损失函数\n",
    "        :param output_activations:\n",
    "        :param y:\n",
    "        :return:\n",
    "        \"\"\"\n",
    "        #print(output_activations.shape)\n",
    "        #print(y.shape)\n",
    "        return (output_activations-y)\n",
    "\n",
    "#### Miscellaneous functions\n",
    "def sigmoid(z):\n",
    "    \"\"\"\n",
    "    求 sigmoid 函数的值\n",
    "    :param z:\n",
    "    :return:\n",
    "    \"\"\"\n",
    "    return 1.0/(1.0+np.exp(-z))\n",
    "\n",
    "def sigmoid_prime(z):\n",
    "    \"\"\"\n",
    "    求 sigmoid 函数的导数\n",
    "    :param z:\n",
    "    :return:\n",
    "    \"\"\"\n",
    "    return sigmoid(z)*(1-sigmoid(z))"
   ]
  },
  {
   "cell_type": "code",
   "execution_count": null,
   "metadata": {},
   "outputs": [
    {
     "name": "stderr",
     "output_type": "stream",
     "text": [
      "/Library/Frameworks/Python.framework/Versions/3.6/lib/python3.6/site-packages/ipykernel_launcher.py:143: RuntimeWarning: overflow encountered in exp\n"
     ]
    },
    {
     "name": "stdout",
     "output_type": "stream",
     "text": [
      "Epoch 0: 7034 / 12000\n"
     ]
    }
   ],
   "source": [
    "net = Network([128, 30, 10])\n",
    "net.SGD(train_data, 30, 20, 0.3,test_data=test_data)"
   ]
  },
  {
   "cell_type": "code",
   "execution_count": null,
   "metadata": {
    "collapsed": true
   },
   "outputs": [],
   "source": []
  }
 ],
 "metadata": {
  "coursera": {
   "course_slug": "neural-networks-deep-learning",
   "graded_item_id": "wRuwL",
   "launcher_item_id": "NI888"
  },
  "kernelspec": {
   "display_name": "Python 3",
   "language": "python",
   "name": "python3"
  },
  "language_info": {
   "codemirror_mode": {
    "name": "ipython",
    "version": 3
   },
   "file_extension": ".py",
   "mimetype": "text/x-python",
   "name": "python",
   "nbconvert_exporter": "python",
   "pygments_lexer": "ipython3",
   "version": "3.6.1"
  }
 },
 "nbformat": 4,
 "nbformat_minor": 2
}
