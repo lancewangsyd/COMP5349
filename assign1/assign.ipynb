{
 "cells": [
  {
   "cell_type": "markdown",
   "metadata": {},
   "source": [
    "## 1 - Assignment1 Neural Network model\n",
    "\n"
   ]
  },
  {
   "cell_type": "markdown",
   "metadata": {},
   "source": [
    "### 1.1 Packages####"
   ]
  },
  {
   "cell_type": "code",
   "execution_count": 1,
   "metadata": {
    "collapsed": true
   },
   "outputs": [],
   "source": [
    "import numpy as np\n",
    "import h5py\n",
    "from scipy import optimize\n",
    "import random\n",
    "import itertools"
   ]
  },
  {
   "cell_type": "code",
   "execution_count": 2,
   "metadata": {
    "collapsed": true
   },
   "outputs": [],
   "source": [
    "def vectorized_label(label):\n",
    "    tmp = np.zeros((10, 1))\n",
    "    tmp[label] = 1.0\n",
    "    return tmp\n",
    "def flattenParams(thetas_list):\n",
    "    \"\"\"\n",
    "    Hand this function a list of theta matrices, and it will flatten it\n",
    "    into one long (n,1) shaped numpy array\n",
    "    \"\"\"\n",
    "    flattened_list = [ mytheta.flatten() for mytheta in thetas_list ]\n",
    "    combined = list(itertools.chain.from_iterable(flattened_list))\n",
    "    return np.array(combined).reshape((1, len(combined)))"
   ]
  },
  {
   "cell_type": "markdown",
   "metadata": {},
   "source": [
    "### 1.2 Dataset ####\n",
    "Show the first 10 instances and labels."
   ]
  },
  {
   "cell_type": "code",
   "execution_count": 3,
   "metadata": {},
   "outputs": [
    {
     "name": "stdout",
     "output_type": "stream",
     "text": [
      "The first 10 instances: \n",
      "[[ -1.26502938e+02   1.63243234e+03  -1.20922145e+03 ...,   1.11837600e+02\n",
      "    3.57044951e+01  -6.63192504e-01]\n",
      " [  1.40756479e+03  -4.51681446e+02  -2.59769757e+02 ...,   9.24883807e+01\n",
      "   -1.46637001e+02  -7.93095667e+01]\n",
      " [ -7.25430358e+02  -1.10359763e+03   1.07005341e+02 ...,  -2.93622934e+01\n",
      "    1.30540938e+01   2.86296443e+01]\n",
      " ..., \n",
      " [  1.82574270e+03   1.67704384e+03   3.29740502e+02 ...,  -9.53786962e+01\n",
      "   -5.42099830e+01  -8.22305980e+01]\n",
      " [ -1.58283168e+03  -3.88443114e+02   1.14953389e+02 ...,   5.78324789e+01\n",
      "    2.17396631e+00   6.87229558e+01]\n",
      " [ -9.46185395e+02   4.13536641e+02  -5.49866946e+01 ...,   8.39081821e+01\n",
      "   -8.13921414e+01   4.63882409e+01]] \n",
      "\n",
      "The first 10 instances:  [9 0 0 3 0 2 7 2 5 5] \n",
      "\n",
      "The shape of instance is:  (60000, 128)\n",
      "The shape of label is:  (60000,)\n",
      "(48000, 128) (48000, 10)\n",
      "(12000, 128) (12000, 10)\n"
     ]
    }
   ],
   "source": [
    "with h5py.File('train_128.h5','r') as H:\n",
    "    data = np.copy(H['data'])\n",
    "print(\"The first 10 instances: \")\n",
    "print(data[:10],\"\\n\")\n",
    "with h5py.File('train_label.h5','r') as H:\n",
    "    label = np.copy(H['label'])\n",
    "print(\"The first 10 instances: \",label[:10],\"\\n\")\n",
    "\n",
    "print(\"The shape of instance is: \",data.shape)\n",
    "print(\"The shape of label is: \",label.shape)\n",
    "\n",
    "labels = np.array([vectorized_label(tmp) for tmp in label])\n",
    "#print(labels[:10])\n",
    "data = np.array([np.reshape(tmp, (128, 1)) for tmp in data])\n",
    "train_data = np.squeeze(data[:48000])\n",
    "train_label = np.squeeze(labels[:48000])\n",
    "\n",
    "print(train_data.shape,train_label.shape)\n",
    "\n",
    "test_data = np.squeeze(data[48000:])\n",
    "test_label = np.squeeze(labels[48000:])\n",
    "\n",
    "print(test_data.shape,test_label.shape)\n",
    "\n"
   ]
  },
  {
   "cell_type": "markdown",
   "metadata": {},
   "source": [
    "### 1.3 - Defining the neural network structure ####"
   ]
  },
  {
   "cell_type": "code",
   "execution_count": 4,
   "metadata": {
    "collapsed": true
   },
   "outputs": [],
   "source": [
    "   def feedforward(self, inputs, theta):\n",
    "        for b, w in zip(self.biases, self.weights):\n",
    "            inputs = sigmoid(np.dot(w, inputs) + b)\n",
    "        return inputs"
   ]
  },
  {
   "cell_type": "code",
   "execution_count": 5,
   "metadata": {
    "collapsed": true
   },
   "outputs": [],
   "source": [
    "class Network(object):\n",
    "\n",
    "    def __init__(self, sizes):\n",
    "        \"\"\"\n",
    "        :param sizes: list类型，储存每层神经网络的神经元数目\n",
    "                      譬如说：sizes = [2, 3, 2] 表示输入层有两个神经元、\n",
    "                      隐藏层有3个神经元以及输出层有2个神经元\n",
    "        \"\"\"\n",
    "        # 有几层神经网络\n",
    "        self.num_layers = len(sizes)\n",
    "        self.sizes = sizes\n",
    "        # 除去输入层，随机产生每层中 y 个神经元的 biase 值（0 - 1）\n",
    "        self.biases = [np.random.randn(y, 1) for y in sizes[1:]]\n",
    "        # 随机产生每条连接线的 weight 值（0 - 1）\n",
    "        self.weights = [np.random.randn(y, x)\n",
    "                        for x, y in zip(sizes[:-1], sizes[1:])]\n",
    "\n",
    "    def feedforward(self, a):\n",
    "        \"\"\"\n",
    "        前向传输计算每个神经元的值\n",
    "        :param a: 输入值\n",
    "        :return: 计算后每个神经元的值\n",
    "        \n",
    "        tmp  = []\n",
    "        #print(\"I am theta: \",theta)\n",
    "        #print(theta.shape)\n",
    "        for i in range(self.num_layers-1):\n",
    "            tmp.append(np.reshape(theta[:self.sizes[i]*self.sizes[i+1]],(self.sizes[i+1],self.sizes[i])))\n",
    "        #print(\"start\")\n",
    "        theta = tmp\n",
    "        \"\"\"\n",
    "        #for b, w in zip(self.biases, theta):\n",
    "        #    z = np.dot(w, activation)+b\n",
    "        for b, w in zip(self.biases, self.weights):\n",
    "            # 加权求和以及加上 biase\n",
    "            a = sigmoid(np.dot(w, a) + b)\n",
    "        return a\n",
    "\n",
    "    def SGD(self, training_data, y,\n",
    "            test_data=None):\n",
    "        \"\"\"\n",
    "        随机梯度下降\n",
    "        :param training_data: 输入的训练集\n",
    "        :param epochs: 迭代次数\n",
    "        :param mini_batch_size: 小样本数量\n",
    "        :param eta: 学习率\n",
    "        :param test_data: 测试数据集\n",
    "        \"\"\"\n",
    "        #if test_data is not None: \n",
    "        #    n_test = len(test_data)\n",
    "        theta1 = flattenParams(self.weights)[0]\n",
    "        #theta2 = flattenParams(self.biases)[0]\n",
    "        #theta = np.concatenate((theta1,theta2),axis=0)\n",
    "        \n",
    "        result = optimize.minimize(self.NNcost, theta1, args=(training_data,y), method=None,jac=self.backprop, \n",
    "                                   options={'maxiter':100})\n",
    "        if test_data is not None:\n",
    "            n_test = len(test_data)\n",
    "            print(\"n_test is: \",n_test)\n",
    "            correct = self.evaluate(test_data)\n",
    "            print(\"Accury is: {}%\".format(correct/n_test*100))\n",
    "        \"\"\"\n",
    "            # 输出测试每轮结束后，神经网络的准确度\n",
    "            if test_data is not None:\n",
    "                print(\"Epoch {0}: {1} / {2}\".format(\n",
    "                    j, self.evaluate(test_data), n_test))\n",
    "            else:\n",
    "                print(\"Epoch {0} complete\".format(j))\n",
    "        \"\"\"\n",
    "    def NNcost(self,theta,training_data,y):\n",
    "        \"\"\"\n",
    "        Here is the cost funtion for ANN\n",
    "        \"\"\"\n",
    "        cost = 0.5* np.sum((self.feedforward(training_data)-y)**2)\n",
    "        #print(\"I am cost: \",cost)\n",
    "        return cost\n",
    "\n",
    "    def backprop(self, theta, training_data, y):\n",
    "        \"\"\"\n",
    "        :param x:\n",
    "        :param y:\n",
    "        :return:\n",
    "        \"\"\"\n",
    "        nabla_b = [np.zeros(b.shape) for b in self.biases]\n",
    "        nabla_w = [np.zeros(w.shape) for w in self.weights]\n",
    "        records = training_data.shape[0]\n",
    "        tmp  = []\n",
    "        #print(\"I am theta: \",theta)\n",
    "        #print(theta.shape)\n",
    "        for i in range(self.num_layers-1):\n",
    "            tmp.append(np.reshape(theta[:self.sizes[i]*self.sizes[i+1]],(self.sizes[i+1],self.sizes[i])))\n",
    "        #print(\"start\")\n",
    "        theta = tmp\n",
    "        self.weights = theta\n",
    "        # 前向传输\n",
    "        activation = training_data\n",
    "        # 储存每层的神经元的值的矩阵，下面循环会 append 每层的神经元的值\n",
    "        activations = [training_data]\n",
    "        # 储存每个未经过 sigmoid 计算的神经元的值\n",
    "        zs = []\n",
    "        for b, w in zip(self.biases, theta):\n",
    "            z = np.dot(w, activation)+b\n",
    "            zs.append(z)\n",
    "            activation = sigmoid(z)\n",
    "            activations.append(activation)\n",
    "        # 求 δ 的值\n",
    "        delta = self.cost_derivative(activations[-1], y) * \\\n",
    "            sigmoid_prime(zs[-1])\n",
    "        nabla_b[-1] = delta\n",
    "        # 乘于前一层的输出值\n",
    "        nabla_w[-1] = np.dot(delta, activations[-2].transpose())\n",
    "        #print()\n",
    "        #print(\"delta: \",delta.shape)\n",
    "        #print(\"activations[-2]: \",activations[-2].shape)\n",
    "        #print(\"nabla_w[-1]: \",nabla_w[-1].shape)\n",
    "        #print()\n",
    "        for l in range(2, self.num_layers):\n",
    "            # 从倒数第 **l** 层开始更新，**-l** 是 python 中特有的语法表示从倒数第 l 层开始计算\n",
    "            # 下面这里利用 **l+1** 层的 δ 值来计算 **l** 的 δ 值\n",
    "            z = zs[-l]\n",
    "            sp = sigmoid_prime(z)\n",
    "            #print(\"delta1: \",delta.shape)\n",
    "            #print(\"theta[-l+1].transpose(): \",theta[-l+1].transpose().shape)\n",
    "            delta = np.dot(theta[-l+1].transpose(), delta) * sp\n",
    "            nabla_b[-l] = delta\n",
    "            #print(delta.shape)\n",
    "            #print(activations[-l-1].transpose().shape)\n",
    "            #print(\"delta2: \",delta.shape)\n",
    "            #print(\"activations[-l-1].transpose(): \",activations[-l-1].transpose().shape)\n",
    "            nabla_w[-l] = np.dot(delta, activations[-l-1].transpose())\n",
    "            #print(\"nabla_w[-l]: \",nabla_w[-l].shape)\n",
    "        #print(type(records))\n",
    "        #print(\"np.array(nabla_w): \",np.array(nabla_w)\n",
    "        nabla_b = np.array(nabla_b)/records\n",
    "        nabla_w = np.array(nabla_w)/records\n",
    "        #print(\"nabla_b_o: \",nabla_b.shape)\n",
    "        nabla_b,nabla_w = flattenParams(nabla_b)[0],flattenParams(nabla_w)[0]\n",
    "        #print(\"nabla_b: \",nabla_b.shape,\"nabla_w: \",nabla_w.shape)\n",
    "        #grad = np.concatenate((nabla_w,nabla_b),axis=0)\n",
    "        #print(grad.shape)\n",
    "        return nabla_w\n",
    "\n",
    "    def evaluate(self, test_data):\n",
    "        # 获得预测结果\n",
    "        for  x,y in test_data:\n",
    "            #print(x.shape)\n",
    "            tmp =  self.feedforward(x)\n",
    "            #print(\"I amd out shape: \", tmp.shape)\n",
    "            #break\n",
    "        test_results = [(np.argmax(self.feedforward(x)), np.argmax(y))\n",
    "                        for (x, y) in test_data]\n",
    "        # 返回正确识别的个数\n",
    "        return sum(int(x == y) for (x, y) in test_results)\n",
    "\n",
    "    def cost_derivative(self, output_activations, y):\n",
    "        \"\"\"\n",
    "        二次损失函数\n",
    "        :param output_activations:\n",
    "        :param y:\n",
    "        :return:\n",
    "        \"\"\"\n",
    "        #print(\"I am first: \",output_activations.shape)\n",
    "        #print(y.shape)\n",
    "        #print(\"I am temp cost: \",output_activations-y)\n",
    "        return (output_activations-y)\n",
    "\n",
    "#### Miscellaneous functions\n",
    "def sigmoid(z):\n",
    "    \"\"\"\n",
    "    求 sigmoid 函数的值\n",
    "    :param z:\n",
    "    :return:\n",
    "    \"\"\"\n",
    "    return 1.0/(1.0+np.exp(-z))\n",
    "\n",
    "def sigmoid_prime(z):\n",
    "    \"\"\"\n",
    "    求 sigmoid 函数的导数\n",
    "    :param z:\n",
    "    :return:\n",
    "    \"\"\"\n",
    "    return sigmoid(z)*(1-sigmoid(z))"
   ]
  },
  {
   "cell_type": "code",
   "execution_count": 6,
   "metadata": {},
   "outputs": [
    {
     "name": "stderr",
     "output_type": "stream",
     "text": [
      "/Library/Frameworks/Python.framework/Versions/3.6/lib/python3.6/site-packages/ipykernel_launcher.py:173: RuntimeWarning: overflow encountered in exp\n",
      "/Library/Frameworks/Python.framework/Versions/3.6/lib/python3.6/site-packages/ipykernel_launcher.py:173: RuntimeWarning: overflow encountered in exp\n",
      "/Library/Frameworks/Python.framework/Versions/3.6/lib/python3.6/site-packages/ipykernel_launcher.py:173: RuntimeWarning: overflow encountered in exp\n",
      "/Library/Frameworks/Python.framework/Versions/3.6/lib/python3.6/site-packages/ipykernel_launcher.py:173: RuntimeWarning: overflow encountered in exp\n"
     ]
    },
    {
     "name": "stdout",
     "output_type": "stream",
     "text": [
      "n_test is:  12000\n"
     ]
    },
    {
     "name": "stderr",
     "output_type": "stream",
     "text": [
      "/Library/Frameworks/Python.framework/Versions/3.6/lib/python3.6/site-packages/ipykernel_launcher.py:173: RuntimeWarning: overflow encountered in exp\n"
     ]
    },
    {
     "name": "stdout",
     "output_type": "stream",
     "text": [
      "Accury is: 16.666666666666664%\n"
     ]
    }
   ],
   "source": [
    "net = Network([128, 30, 10])\n",
    "test_data_used = []\n",
    "for data,label in zip(test_data,test_label):\n",
    "    test_data_used.append((np.expand_dims(data,axis=1),np.expand_dims(label,axis=1)))\n",
    "test_data_used = np.array(test_data_used)\n",
    "#print(test_data_used[:1].shape)\n",
    "#print(type(test_data_used))\n",
    "#for x,y in test_data_used:\n",
    "#    print(x.shape)\n",
    "#    print(y.shape)\n",
    "#    break\n",
    "net.SGD(train_data.T,train_label.T,test_data=test_data_used)"
   ]
  }
 ],
 "metadata": {
  "coursera": {
   "course_slug": "neural-networks-deep-learning",
   "graded_item_id": "wRuwL",
   "launcher_item_id": "NI888"
  },
  "kernelspec": {
   "display_name": "Python 3",
   "language": "python",
   "name": "python3"
  },
  "language_info": {
   "codemirror_mode": {
    "name": "ipython",
    "version": 3
   },
   "file_extension": ".py",
   "mimetype": "text/x-python",
   "name": "python",
   "nbconvert_exporter": "python",
   "pygments_lexer": "ipython3",
   "version": "3.6.1"
  }
 },
 "nbformat": 4,
 "nbformat_minor": 2
}
