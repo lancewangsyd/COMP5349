{
  "nbformat": 4,
  "nbformat_minor": 0,
  "metadata": {
    "colab": {
      "name": "softmax.ipynb",
      "version": "0.3.2",
      "views": {},
      "default_view": {},
      "provenance": [],
      "collapsed_sections": []
    },
    "kernelspec": {
      "name": "python3",
      "display_name": "Python 3"
    },
    "accelerator": "GPU"
  },
  "cells": [
    {
      "metadata": {
        "id": "V3kFXo29ew80",
        "colab_type": "code",
        "colab": {
          "autoexec": {
            "startup": false,
            "wait_interval": 0
          }
        }
      },
      "cell_type": "code",
      "source": [
        "\"\"\"\n",
        "This block builds class for making predictions on test set based on trained parameters\n",
        "\n",
        "\"\"\"\n",
        "\n",
        "class Network_test():\n",
        "  \n",
        "  def __init__(self, layer_dims, X_test, labels_test, parameters_train):\n",
        "   \n",
        "    self.X = X_test\n",
        "    \n",
        "    self.labels = labels_test\n",
        "    \n",
        "    self.L = len(layer_dims)\n",
        "    \n",
        "    self.parameters = parameters_train\n",
        "    \n",
        "    self.AL = 0\n",
        "    \n",
        "    self.Y = []\n",
        "    \n",
        "    self.m = 0\n",
        "    \n",
        "    self.caches = {}\n",
        "    \n",
        "    self.cost= 0\n",
        "    \n",
        "    self.p = []\n",
        "    \n",
        "  def vectorize_label(self):\n",
        "    #Y=np.zeros((10,1))\n",
        "    #Y[labels] =1.0\n",
        "    #return Y\n",
        "    \"\"\"\n",
        "    labels -- tru labels, array, e.g. [1,3,4]\n",
        "\n",
        "    \"\"\"\n",
        "    y_enc = (np.arange(np.max(self.labels) + 1) == self.labels[:, None]).astype(float)\n",
        "\n",
        "    self.Y = y_enc.T\n",
        "\n",
        "    self.m = self.Y.shape[1]\n",
        "    \n",
        "  def linear_activation_forward(self, A_prev, W, b, activation):\n",
        "    \"\"\"\n",
        "    Arguments:\n",
        "    A_prev -- previous A result from layer l-1, shape of (layer_dims[l-1], m)\n",
        "    W -- weight for layer l shape of (layer_dims[l], layer_dims[l-1])\n",
        "    b -- bias for layer l shape of (layer_dims[l], 1)\n",
        "    activation -- relu/softmax\n",
        "\n",
        "    Returns:\n",
        "    A -- \n",
        "    cache -- \n",
        "    \"\"\"\n",
        "\n",
        "    #Z, linear_cache = linear_forward(A_prev, W, b)\n",
        "\n",
        "    Z = self.linear_forward(A_prev, W, b)\n",
        "\n",
        "    if activation == \"relu\":\n",
        "      #A, activation_cache = relu(Z)\n",
        "      A = self.relu(Z)\n",
        "    if activation == \"softmax\":\n",
        "      #A, activation_cache = softmax(Z)\n",
        "      A = self.softmax(Z)\n",
        "\n",
        "    #cache = (linear_cache, activation_cache)\n",
        "    return A  \n",
        "      \n",
        "    \n",
        "  def linear_forward(self, A, W, b):\n",
        "    \"\"\"\n",
        "    Arguments:\n",
        "    A -- activation result from layer l-1, shape of (layer_dims[l-1], m)\n",
        "    W -- weight for layer l shape of (layer_dims[l], layer_dims[l-1])\n",
        "    b -- bias for layer l shape of (layer_dims[l], 1)\n",
        "\n",
        "    Returns:\n",
        "    Z -- linear result shape of (layer_dims[l], m)\n",
        "    cache -- A,W,b \n",
        "    \"\"\"\n",
        "\n",
        "\n",
        "    #Z=np.dot(W,A) + b\n",
        "\n",
        "    Z = W.dot(A) +b\n",
        "\n",
        "    assert(Z.shape == (W.shape[0], A.shape[1]) )\n",
        "    #cache = (A, W, b)\n",
        "\n",
        "    return Z\n",
        "    \n",
        "    \n",
        "  def relu(self, Z):\n",
        "\n",
        "    \"\"\"\n",
        "    Arguments:\n",
        "    Z -- output of linear layer, with shape(n,m), n is number of units\n",
        "\n",
        "    Returns:\n",
        "    A -- relu result of Z\n",
        "    cache -- \n",
        "    \"\"\"\n",
        "\n",
        "    A=np.maximum(0,Z)\n",
        "\n",
        "    assert(A.shape == Z.shape)\n",
        "\n",
        "    #cache = Z\n",
        "    return A \n",
        "    \n",
        "    \n",
        "  def softmax(self, Z):\n",
        "    '''\n",
        "    implements softmax funciton\n",
        "\n",
        "    Arguments:\n",
        "    Z -- input as an array of shape(n,1)\n",
        "\n",
        "    Returns:\n",
        "    A -- softmax result of array z, same shape as z\n",
        "    cache -- A. \n",
        "    '''\n",
        "    A=np.exp(Z)/np.sum(np.exp(Z),axis=0)\n",
        "    #cache=Z\n",
        "    assert(A.shape == Z.shape)\n",
        "    return A  \n",
        "\n",
        "  def L_model_forward(self):\n",
        "    \"\"\"\n",
        "    Arguments:\n",
        "    X -- input data. shape of \n",
        "    parameters -- output from initialize_parameters_deep. dictionary contains:\n",
        "                  Wl -- weight shape of (layer_dims[l], layer_dims[l-1])\n",
        "                  bl -- bias shape of (layer_dims[l],1)\n",
        "\n",
        "    Returns:\n",
        "    AL -- final output of shape (layer_dims[l], m)\n",
        "    \"\"\"\n",
        "\n",
        "    assert(self.X.shape[0] == self.parameters['W1'].shape[1])\n",
        "\n",
        "    self.caches[\"A0\"] = self.X\n",
        "\n",
        "    for l in np.arange(1,self.L-1):\n",
        "\n",
        "\n",
        "      self.caches[\"Z\"+str(l)] = self.linear_forward(self.caches[\"A\"+str(l-1)], self.parameters['W'+str(l)], self.parameters['b'+str(l)])\n",
        "\n",
        "      self.caches[\"A\"+str(l)] = self.relu(self.caches[\"Z\"+str(l)] )\n",
        "\n",
        "    l+=1\n",
        "\n",
        "    self.caches[\"Z\"+str(l)] = self.linear_forward(self.caches[\"A\"+str(l-1)], self.parameters['W'+str(l)], self.parameters['b'+str(l)])\n",
        "\n",
        "    self.caches[\"A\"+str(l)] = self.softmax(self.caches[\"Z\"+str(l)])\n",
        "\n",
        "\n",
        "    self.AL = self.caches[\"A\"+str(self.L-1)]    \n",
        "    \n",
        "  \n",
        "  def predict_test(self):\n",
        "    \"\"\"\n",
        "    This function is used to predict the results of a  L-layer neural network.\n",
        "\n",
        "    Arguments:\n",
        "    X -- data set of examples you would like to label\n",
        "    parameters -- parameters of the trained model\n",
        "\n",
        "    Returns:\n",
        "    p -- predictions for the given dataset X\n",
        "    \"\"\"\n",
        "    \n",
        "    self.vectorize_label()\n",
        "    \n",
        "    self.L_model_forward()\n",
        "\n",
        "    self.p=self.AL.argmax(axis=0)\n",
        "\n",
        "\n",
        "    print(\"Accuracy: \"  + str(np.sum((self.p == self.labels)/self.m)))\n",
        "\n",
        "    #self.accuracy = np.sum((self.p == self.labels)/self.m)\n",
        "    #return self.p\n",
        "  "
      ],
      "execution_count": 0,
      "outputs": []
    },
    {
      "metadata": {
        "id": "c0vCi1T0fywZ",
        "colab_type": "code",
        "colab": {
          "autoexec": {
            "startup": false,
            "wait_interval": 0
          }
        }
      },
      "cell_type": "code",
      "source": [
        "\"\"\"\n",
        "This block builds class for implementing MLN - for now, it has no dropout, SGD with momentom. only basic naive model.\n",
        "\"\"\"\n",
        "\n",
        "class Network():\n",
        "  \n",
        "  def __init__(self, layer_dims, X, labels):\n",
        "    \"\"\"\n",
        "    Arguments: layer_dims -- python array containing dimensions of each layer. e.g. np.array[2,5,10]\n",
        "                          -- input layer = no. of attributes; hidden layer; output layer = no. of classes\n",
        "               Y -- true vectorized labels, shape (10,m)\n",
        "               \n",
        "               caches -- dictionary containing Z for l in (1,L+1),A for l in (0,L+1), Al - activation result for layer l, Zl - linear result for layer l\n",
        "                      -- with A for layer L being AL, A0=X\n",
        "    \"\"\"\n",
        "    self.X = X\n",
        "    \n",
        "    self.labels = labels\n",
        "    \n",
        "    self.layer_dims = layer_dims\n",
        "    \n",
        "    self.L = len(layer_dims)\n",
        "    \n",
        "    self.parameters = {}\n",
        "    \n",
        "    self.AL = 0\n",
        "    \n",
        "    self.Y = []\n",
        "    \n",
        "    self.m = 0\n",
        "    \n",
        "    self.grads = {}\n",
        "    \n",
        "    self.caches = {}\n",
        "    \n",
        "    self.cost=0\n",
        "    \n",
        "    self.p = []\n",
        "    \n",
        "  def vectorize_label(self):\n",
        "      #Y=np.zeros((10,1))\n",
        "      #Y[labels] =1.0\n",
        "      #return Y\n",
        "      \"\"\"\n",
        "      labels -- tru labels, array, e.g. [1,3,4]\n",
        "\n",
        "      \"\"\"\n",
        "      y_enc = (np.arange(np.max(self.labels) + 1) == self.labels[:, None]).astype(float)\n",
        "      \n",
        "      self.Y = y_enc.T\n",
        "      \n",
        "      self.m = self.Y.shape[1]\n",
        "      \n",
        "    \n",
        "  def linear_activation_forward(self, A_prev, W, b, activation):\n",
        "      \"\"\"\n",
        "      Arguments:\n",
        "      A_prev -- previous A result from layer l-1, shape of (layer_dims[l-1], m)\n",
        "      W -- weight for layer l shape of (layer_dims[l], layer_dims[l-1])\n",
        "      b -- bias for layer l shape of (layer_dims[l], 1)\n",
        "      activation -- relu/softmax\n",
        "\n",
        "      Returns:\n",
        "      A -- \n",
        "      cache -- \n",
        "      \"\"\"\n",
        "\n",
        "      #Z, linear_cache = linear_forward(A_prev, W, b)\n",
        "      \n",
        "      Z = self.linear_forward(A_prev, W, b)\n",
        "\n",
        "      if activation == \"relu\":\n",
        "        #A, activation_cache = relu(Z)\n",
        "        A = self.relu(Z)\n",
        "      if activation == \"softmax\":\n",
        "        #A, activation_cache = softmax(Z)\n",
        "        A = self.softmax(Z)\n",
        "\n",
        "      #cache = (linear_cache, activation_cache)\n",
        "      return A  \n",
        "    \n",
        "  def initialize_parameters_deep(self):\n",
        "      \"\"\"\n",
        "      Arguments:\n",
        "      layer_dims -- python array containing dimensions of each layer\n",
        "\n",
        "      Returns:\n",
        "      parameters -- dictionary\n",
        "                    Wl -- weight shape of (layer_dims[l], layer_dims[l-1])\n",
        "                    bl -- bias shape of (layer_dims[l],1)\n",
        "\n",
        "      \"\"\"\n",
        "      np.random.seed(1)\n",
        "      #self.parameters = {}\n",
        "\n",
        "      for l in range(1,self.L):\n",
        "        self.parameters['W'+str(l)] = np.random.rand(self.layer_dims[l], self.layer_dims[l-1]) / np.sqrt(self.layer_dims[l-1]) *0.001\n",
        "        self.parameters['b'+str(l)] = np.zeros((self.layer_dims[l],1))\n",
        "\n",
        "        assert(self.parameters['W'+str(l)].shape == (self.layer_dims[l], self.layer_dims[l-1]))\n",
        "        assert(self.parameters['b'+str(l)].shape == (self.layer_dims[l], 1))\n",
        "\n",
        "    \n",
        "  def linear_forward(self, A, W, b):\n",
        "      \"\"\"\n",
        "      Arguments:\n",
        "      A -- activation result from layer l-1, shape of (layer_dims[l-1], m)\n",
        "      W -- weight for layer l shape of (layer_dims[l], layer_dims[l-1])\n",
        "      b -- bias for layer l shape of (layer_dims[l], 1)\n",
        "\n",
        "      Returns:\n",
        "      Z -- linear result shape of (layer_dims[l], m)\n",
        "      cache -- A,W,b \n",
        "      \"\"\"\n",
        "\n",
        "\n",
        "      #Z=np.dot(W,A) + b\n",
        "\n",
        "      Z = W.dot(A) +b\n",
        "\n",
        "      assert(Z.shape == (W.shape[0], A.shape[1]) )\n",
        "      #cache = (A, W, b)\n",
        "\n",
        "      return Z\n",
        "    \n",
        "    \n",
        "  def relu(self, Z):\n",
        "  \n",
        "      \"\"\"\n",
        "      Arguments:\n",
        "      Z -- output of linear layer, with shape(n,m), n is number of units\n",
        "\n",
        "      Returns:\n",
        "      A -- relu result of Z\n",
        "      cache -- \n",
        "      \"\"\"\n",
        "\n",
        "      A=np.maximum(0,Z)\n",
        "\n",
        "      assert(A.shape == Z.shape)\n",
        "\n",
        "      #cache = Z\n",
        "      return A \n",
        "    \n",
        "    \n",
        "  def softmax(self, Z):\n",
        "      '''\n",
        "      implements softmax funciton\n",
        "\n",
        "      Arguments:\n",
        "      Z -- input as an array of shape(n,1)\n",
        "\n",
        "      Returns:\n",
        "      A -- softmax result of array z, same shape as z\n",
        "      cache -- A. \n",
        "      '''\n",
        "      A=np.exp(Z)/np.sum(np.exp(Z),axis=0)\n",
        "      #cache=Z\n",
        "      assert(A.shape == Z.shape)\n",
        "      return A\n",
        "    \n",
        "\n",
        "\n",
        "    \n",
        "  def L_model_forward(self):\n",
        "      \"\"\"\n",
        "      Arguments:\n",
        "      X -- input data. shape of \n",
        "      parameters -- output from initialize_parameters_deep. dictionary contains:\n",
        "                    Wl -- weight shape of (layer_dims[l], layer_dims[l-1])\n",
        "                    bl -- bias shape of (layer_dims[l],1)\n",
        "\n",
        "      Returns:\n",
        "      AL -- final output of shape (layer_dims[l], m)\n",
        "      \"\"\"\n",
        "\n",
        "      assert(self.X.shape[0] == self.parameters['W1'].shape[1])\n",
        "      \n",
        "      self.caches[\"A0\"] = self.X\n",
        "\n",
        "      for l in np.arange(1,self.L-1):\n",
        "\n",
        "        \n",
        "        self.caches[\"Z\"+str(l)] = self.linear_forward(self.caches[\"A\"+str(l-1)], self.parameters['W'+str(l)], self.parameters['b'+str(l)])\n",
        "        \n",
        "        self.caches[\"A\"+str(l)] = self.relu(self.caches[\"Z\"+str(l)] )\n",
        "\n",
        "      l+=1\n",
        "      \n",
        "      self.caches[\"Z\"+str(l)] = self.linear_forward(self.caches[\"A\"+str(l-1)], self.parameters['W'+str(l)], self.parameters['b'+str(l)])\n",
        "      \n",
        "      self.caches[\"A\"+str(l)] = self.softmax(self.caches[\"Z\"+str(l)])\n",
        "\n",
        "     \n",
        "      self.AL = self.caches[\"A\"+str(self.L-1)]\n",
        "\n",
        "      \n",
        "  def cross_entropy(self):\n",
        "      \"\"\"\n",
        "      Calculate cross entropy\n",
        "\n",
        "      Arguments:\n",
        "      AL -- output of model:probability vector, shape (10, m)\n",
        "      Y -- true label vector, shape of (10,m)\n",
        "\n",
        "      Returns:\n",
        "      cost -- cross entropy cost\n",
        "\n",
        "      \"\"\"\n",
        "\n",
        "      assert (self.AL.shape == self.Y.shape)\n",
        "      self.cost = -np.sum(np.log(self.AL)*self.Y)/self.m\n",
        "\n",
        "      self.cost =np.squeeze(self.cost)\n",
        "      #assert (cost.shape == ())\n",
        "      #return cost\n",
        "    \n",
        "    \n",
        "  def relu_backward(self, dA, Z):\n",
        "      \"\"\"\n",
        "      Implement the backward propagation for a single RELU unit.\n",
        "\n",
        "      Arguments:\n",
        "      dA -- post-activation gradient, of any shape\n",
        "      cache -- 'Z' where we store for computing backward propagation efficiently\n",
        "\n",
        "      Returns:\n",
        "      dZ -- Gradient of the cost with respect to Z\n",
        "      \"\"\"\n",
        "\n",
        "      #Z = cache\n",
        "      dZ = np.array(dA, copy=True) # just converting dz to a correct object.\n",
        "\n",
        "      # When z <= 0, you should set dz to 0 as well. \n",
        "      dZ[Z <= 0] = 0\n",
        "\n",
        "      assert (dZ.shape == Z.shape)\n",
        "\n",
        "      return dZ\n",
        "    \n",
        "  \n",
        "  def softmax_backward(self, Z):\n",
        "      \"\"\"\n",
        "      Z -- linear output Z in current layer l \n",
        "\n",
        "      \"\"\"\n",
        "\n",
        "      dZ = self.softmax(Z)-self.Y\n",
        "      \n",
        "      return dZ\n",
        "    \n",
        "    \n",
        "  def linear_backward(self, dZ, A_prev, W, b):\n",
        "      \"\"\"\n",
        "      Implement the linear portion of backward propagation for a single layer (layer l)\n",
        "\n",
        "      Arguments:\n",
        "      dZ -- Gradient of the cost with respect to the linear output (of current layer l)\n",
        "      cache -- tuple of values (A_prev, W, b) coming from the forward propagation in the current layer\n",
        "      A_prev -- activation result from layer l-1, \n",
        "\n",
        "      Returns:\n",
        "      dA_prev -- Gradient of the cost with respect to the activation (of the previous layer l-1), same shape as A_prev\n",
        "      dW -- Gradient of the cost with respect to W (current layer l), same shape as W\n",
        "      db -- Gradient of the cost with respect to b (current layer l), same shape as b\n",
        "      \"\"\"\n",
        "      #A_prev, W, b = cache\n",
        "      #m = A_prev.shape[1]\n",
        "\n",
        "      dW = 1./self.m * np.dot(dZ,A_prev.T)\n",
        "      db = 1./self.m * np.sum(dZ, axis = 1, keepdims = True)\n",
        "      dA_prev = np.dot(W.T,dZ)\n",
        "\n",
        "      assert (dA_prev.shape == A_prev.shape)\n",
        "      assert (dW.shape == W.shape)\n",
        "      assert (db.shape == b.shape)\n",
        "\n",
        "      return dA_prev, dW, db\n",
        "    \n",
        "    \n",
        "  def L_model_backward(self):\n",
        "      \"\"\"\n",
        "      Implement the backward propagation for the [LINEAR->RELU] * (L-1) -> LINEAR -> SIGMOID group\n",
        "\n",
        "      Arguments:\n",
        "      AL -- probability vector, output of the forward propagation (L_model_forward())\n",
        "      Y -- true \"label\" vector (containing 0 if non-cat, 1 if cat)\n",
        "      caches -- list of caches containing:\n",
        "                  every cache of linear_activation_forward() with \"relu\" (there are (L-1) or them, indexes from 0 to L-2)\n",
        "                  the cache of linear_activation_forward() with \"sigmoid\" (there is one, index L-1)\n",
        "\n",
        "      Returns:\n",
        "      grads -- A dictionary with the gradients\n",
        "               grads[\"dA\" + str(l)] = ... \n",
        "               grads[\"dW\" + str(l)] = ...\n",
        "               grads[\"db\" + str(l)] = ... \n",
        "      \"\"\"\n",
        "\n",
        "\n",
        "      #Y = Y.reshape(AL.shape) # after this line, Y is the same shape as AL\n",
        "\n",
        "      # Initializing the backpropagation\n",
        "      \n",
        "      dAL = - np.divide(self.Y, self.AL) \n",
        "               \n",
        "      self.grads[\"dA\"+str(self.L-1)] = dAL\n",
        "\n",
        "      # Lth layer (SIGMOID -> LINEAR) gradients. Inputs: \"AL, Y, caches\". Outputs: \"grads[\"dAL\"], grads[\"dWL\"], grads[\"dbL\"]\n",
        "      \n",
        "      #current_cache = caches[L-1]\n",
        "\n",
        "               \n",
        "      self.grads[\"dZ\"+str(self.L-1)] = self.softmax_backward(self.caches[\"Z\"+str(self.L-1)])\n",
        "               \n",
        "                              \n",
        "      self.grads[\"dA\"+str(self.L-2)], self.grads[\"dW\"+str(self.L-1)], self.grads[\"db\"+str(self.L-1)] = self.linear_backward(self.grads[\"dZ\"+str(self.L-1)], self.caches[\"A\"+str(self.L-2)], self.parameters[\"W\"+str(self.L-1)], self.parameters[\"b\"+str(self.L-1)])\n",
        "               \n",
        "\n",
        "      for l in reversed(np.arange(1,self.L-1)):\n",
        "          # lth layer: (RELU -> LINEAR) gradients.\n",
        "          #current_cache = caches[l]\n",
        "                                                                               \n",
        "          self.grads[\"dZ\"+str(l)] = self.relu_backward(self.grads[\"dA\"+str(l)], self.caches[\"Z\"+str(l)])\n",
        "                                                                               \n",
        "          self.grads[\"dA\"+str(l-1)], self.grads[\"dW\"+str(l)], self.grads[\"db\"+str(l)] = self.linear_backward(self.grads[\"dZ\"+str(l)], self.caches[\"A\"+str(l-1)], self.parameters[\"W\"+str(l)], self.parameters[\"b\"+str(l)])\n",
        "                                                                       \n",
        "                                                                               \n",
        "  def update_parameters(self, learning_rate):\n",
        "      \"\"\"\n",
        "      Update parameters using gradient descent\n",
        "\n",
        "      Arguments:\n",
        "      parameters -- python dictionary containing your parameters \n",
        "      grads -- python dictionary containing your gradients, output of L_model_backward\n",
        "\n",
        "      Returns:\n",
        "      parameters -- python dictionary containing your updated parameters \n",
        "                    parameters[\"W\" + str(l)] = ... \n",
        "                    parameters[\"b\" + str(l)] = ...\n",
        "      \"\"\"\n",
        "\n",
        "      #L = len(parameters) // 2 # number of layers in the neural network\n",
        "      \n",
        "      \n",
        "\n",
        "      # Update rule for each parameter. Use a for loop.\n",
        "      for l in range(self.L-1):\n",
        "          self.parameters[\"W\" + str(l+1)] = self.parameters[\"W\" + str(l+1)] - learning_rate * self.grads[\"dW\" + str(l+1)]\n",
        "          self.parameters[\"b\" + str(l+1)] = self.parameters[\"b\" + str(l+1)] - learning_rate * self.grads[\"db\" + str(l+1)]\n",
        "   \n",
        "\n",
        "\n",
        "\n",
        "\n",
        "  def predict(self):\n",
        "      \"\"\"\n",
        "      This function is used to predict the results of a  L-layer neural network.\n",
        "\n",
        "      Arguments:\n",
        "      X -- data set of examples you would like to label\n",
        "      parameters -- parameters of the trained model\n",
        "\n",
        "      Returns:\n",
        "      p -- predictions for the given dataset X\n",
        "      \"\"\"\n",
        "\n",
        "      self.p=self.AL.argmax(axis=0)\n",
        "\n",
        "\n",
        "      print(\"Accuracy: \"  + str(np.sum((self.p == self.labels)/self.m)))\n",
        "      \n",
        "      #self.accuracy = np.sum((self.p == self.labels)/self.m)\n",
        "      #return self.p\n",
        "    \n",
        "    \n",
        "  def L_layer_model(self, learning_rate = 0.0075, num_iterations = 1000, print_cost=False):\n",
        "      \n",
        "      np.random.seed(1)\n",
        "      \n",
        "      costs = []\n",
        "      \n",
        "      accuracys = []\n",
        "      \n",
        "      self.vectorize_label()\n",
        "      \n",
        "      self.initialize_parameters_deep()\n",
        "      \n",
        "      \n",
        "      for i in range(0, num_iterations):  \n",
        "        \n",
        "          self.L_model_forward()\n",
        "          \n",
        "          self.cross_entropy()\n",
        "          \n",
        "          self.L_model_backward()\n",
        "          \n",
        "          self.update_parameters(learning_rate)\n",
        "          \n",
        "          # Print the cost every 100 training example\n",
        "          if print_cost and i % 100 == 0:      \n",
        "            \n",
        "            \n",
        "            print (\"Cost after iteration %i: %f\" %(i, self.cost))\n",
        "            \n",
        "            #accuracy = self.predict().accuracy\n",
        "            #print (accuracy)\n",
        "            \n",
        "          if print_cost and i % 100 == 0:\n",
        "\n",
        "            costs.append(self.cost)\n",
        "            \n",
        "            #accuracys.append(accuracy)\n",
        "            \n",
        "          if print_cost and i % 1000== 0: \n",
        "            \n",
        "            self.predict()\n",
        "      \n",
        "      self.predict()  \n",
        "      # plot the cost\n",
        "      plt.plot(np.squeeze(costs))\n",
        "      #plt.plot(np.squeeze(accuracys))\n",
        "      plt.ylabel('cost')\n",
        "      plt.xlabel('iterations (per tens)')\n",
        "      plt.title(\"Learning rate =\" + str(learning_rate))\n",
        "      plt.show()\n",
        "\n",
        "\n",
        "    \n",
        "    "
      ],
      "execution_count": 0,
      "outputs": []
    },
    {
      "metadata": {
        "id": "tc0-bWv-XnP2",
        "colab_type": "code",
        "colab": {
          "autoexec": {
            "startup": false,
            "wait_interval": 0
          },
          "resources": {
            "http://localhost:8080/nbextensions/google.colab/files.js": {
              "data": "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",
              "ok": true,
              "headers": [
                [
                  "content-type",
                  "application/javascript"
                ]
              ],
              "status": 200,
              "status_text": ""
            }
          },
          "base_uri": "https://localhost:8080/",
          "height": 89
        },
        "outputId": "8f383a19-d127-4997-d508-814a4589d0ea",
        "executionInfo": {
          "status": "ok",
          "timestamp": 1524635834274,
          "user_tz": -600,
          "elapsed": 134992,
          "user": {
            "displayName": "Lan",
            "photoUrl": "https://lh3.googleusercontent.com/a/default-user=s128",
            "userId": "106352409797232494979"
          }
        }
      },
      "cell_type": "code",
      "source": [
        "from google.colab import files\n",
        "\n",
        "uploaded = files.upload()\n",
        "\n",
        "for fn in uploaded.keys():\n",
        "  print('User uploaded file \"{name}\" with length {length} bytes'.format(\n",
        "      name=fn, length=len(uploaded[fn])))"
      ],
      "execution_count": 247,
      "outputs": [
        {
          "output_type": "display_data",
          "data": {
            "text/html": [
              "\n",
              "     <input type=\"file\" id=\"files-eade8bf2-efe0-416d-b840-686c48dc2eef\" name=\"files[]\" multiple disabled />\n",
              "     <output id=\"result-eade8bf2-efe0-416d-b840-686c48dc2eef\">\n",
              "      Upload widget is only available when the cell has been executed in the\n",
              "      current browser session. Please rerun this cell to enable.\n",
              "      </output>\n",
              "      <script src=\"/nbextensions/google.colab/files.js\"></script> "
            ],
            "text/plain": [
              "<IPython.core.display.HTML object>"
            ]
          },
          "metadata": {
            "tags": []
          }
        },
        {
          "output_type": "stream",
          "text": [
            "Saving test_128.h5 to test_128.h5\n",
            "User uploaded file \"test_128.h5\" with length 10242144 bytes\n"
          ],
          "name": "stdout"
        }
      ]
    },
    {
      "metadata": {
        "id": "4DZxQNj5gewn",
        "colab_type": "code",
        "colab": {
          "autoexec": {
            "startup": false,
            "wait_interval": 0
          },
          "resources": {
            "http://localhost:8080/nbextensions/google.colab/files.js": {
              "data": "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",
              "ok": true,
              "headers": [
                [
                  "content-type",
                  "application/javascript"
                ]
              ],
              "status": 200,
              "status_text": ""
            }
          },
          "base_uri": "https://localhost:8080/",
          "height": 140
        },
        "outputId": "28ccbf8d-a960-4eec-879c-26f54e3236b2",
        "executionInfo": {
          "status": "ok",
          "timestamp": 1524622274882,
          "user_tz": -600,
          "elapsed": 727585,
          "user": {
            "displayName": "Lan",
            "photoUrl": "https://lh3.googleusercontent.com/a/default-user=s128",
            "userId": "106352409797232494979"
          }
        }
      },
      "cell_type": "code",
      "source": [
        "from google.colab import files\n",
        "\n",
        "uploaded = files.upload()\n",
        "\n",
        "for fn in uploaded.keys():\n",
        "  print('User uploaded file \"{name}\" with length {length} bytes'.format(\n",
        "      name=fn, length=len(uploaded[fn])))"
      ],
      "execution_count": 57,
      "outputs": [
        {
          "output_type": "display_data",
          "data": {
            "text/html": [
              "\n",
              "     <input type=\"file\" id=\"files-21490fd4-29c7-4264-a26e-6b355f16167d\" name=\"files[]\" multiple disabled />\n",
              "     <output id=\"result-21490fd4-29c7-4264-a26e-6b355f16167d\">\n",
              "      Upload widget is only available when the cell has been executed in the\n",
              "      current browser session. Please rerun this cell to enable.\n",
              "      </output>\n",
              "      <script src=\"/nbextensions/google.colab/files.js\"></script> "
            ],
            "text/plain": [
              "<IPython.core.display.HTML object>"
            ]
          },
          "metadata": {
            "tags": []
          }
        },
        {
          "output_type": "stream",
          "text": [
            "Saving train_128.h5 to train_128.h5\n",
            "Saving train_label.h5 to train_label.h5\n",
            "User uploaded file \"train_128.h5\" with length 61442144 bytes\n",
            "User uploaded file \"train_label.h5\" with length 482144 bytes\n"
          ],
          "name": "stdout"
        }
      ]
    },
    {
      "metadata": {
        "id": "20a1JEuFb0em",
        "colab_type": "text"
      },
      "cell_type": "markdown",
      "source": [
        ""
      ]
    },
    {
      "metadata": {
        "id": "g8lWlbd3kb85",
        "colab_type": "code",
        "colab": {
          "autoexec": {
            "startup": false,
            "wait_interval": 0
          },
          "base_uri": "https://localhost:8080/",
          "height": 750
        },
        "outputId": "9390a1ab-474b-4801-c501-076944fa9d68",
        "executionInfo": {
          "status": "ok",
          "timestamp": 1524637264264,
          "user_tz": -600,
          "elapsed": 165163,
          "user": {
            "displayName": "Lan",
            "photoUrl": "https://lh3.googleusercontent.com/a/default-user=s128",
            "userId": "106352409797232494979"
          }
        }
      },
      "cell_type": "code",
      "source": [
        "\"\"\"\n",
        "Load in train set data and run the model\n",
        "\"\"\"\n",
        "with h5py.File('train_128.h5','r') as H:\n",
        "    X = np.copy(H['data']).T\n",
        "print(len(data[0,:]))\n",
        "with h5py.File('train_label.h5','r') as H:\n",
        "    labels = np.copy(H['label'])\n",
        "print(\"The first 10 instances: \",label[22],\"\\n\")\n",
        "\n",
        "X_train = X[:,0:20000]\n",
        "labels_train = labels[0:20000]\n",
        "\n",
        "start_time = time.time()\n",
        "\n",
        "\n",
        "layer_dims = np.array([128,50,10])\n",
        "\n",
        "case_train = Network(layer_dims,X_train, labels_train)\n",
        "\n",
        "case_train.L_layer_model(learning_rate= 0.005, num_iterations=1500, print_cost=True)\n",
        "\n",
        "print(\"--- %s seconds ---\" % (time.time() - start_time))"
      ],
      "execution_count": 258,
      "outputs": [
        {
          "output_type": "stream",
          "text": [
            "128\n",
            "The first 10 instances:  4 \n",
            "\n",
            "Cost after iteration 0: 2.302588\n",
            "Accuracy: 0.0148\n",
            "Cost after iteration 100: 0.464055\n",
            "Cost after iteration 200: 0.392994\n",
            "Cost after iteration 300: 0.379635\n",
            "Cost after iteration 400: 0.340426\n",
            "Cost after iteration 500: 0.340386\n",
            "Cost after iteration 600: 0.329774\n",
            "Cost after iteration 700: 0.309313\n",
            "Cost after iteration 800: 0.287539\n",
            "Cost after iteration 900: 0.286898\n",
            "Cost after iteration 1000: 0.301120\n",
            "Accuracy: 0.8856500000000003\n",
            "Cost after iteration 1100: 0.254043\n",
            "Cost after iteration 1200: 0.247297\n",
            "Cost after iteration 1300: 0.243899\n",
            "Cost after iteration 1400: 0.233112\n",
            "Accuracy: 0.9121500000000005\n"
          ],
          "name": "stdout"
        },
        {
          "output_type": "display_data",
          "data": {
            "image/png": "[encoded data removed]",
            "text/plain": [
              "<matplotlib.figure.Figure at 0x7ff8c621fa58>"
            ]
          },
          "metadata": {
            "tags": []
          }
        },
        {
          "output_type": "stream",
          "text": [
            "--- 164.25924348831177 seconds ---\n"
          ],
          "name": "stdout"
        }
      ]
    },
    {
      "metadata": {
        "id": "6Mk5S2vjmkgZ",
        "colab_type": "code",
        "colab": {
          "autoexec": {
            "startup": false,
            "wait_interval": 0
          },
          "base_uri": "https://localhost:8080/",
          "height": 34
        },
        "outputId": "1d71fcee-313e-42fa-8e15-3d2db1cd3904",
        "executionInfo": {
          "status": "ok",
          "timestamp": 1524638529793,
          "user_tz": -600,
          "elapsed": 884,
          "user": {
            "displayName": "Lan",
            "photoUrl": "https://lh3.googleusercontent.com/a/default-user=s128",
            "userId": "106352409797232494979"
          }
        }
      },
      "cell_type": "code",
      "source": [
        "\"\"\"\n",
        "Test the parameters generated using a subset of train data\n",
        "\"\"\"\n",
        "\n",
        "X_30000 = X[:,20000:30001]\n",
        "labels_30000 = labels[20000:30001]\n",
        "\n",
        "parameters_train = case_train.parameters\n",
        "case_test_2 = Network_test(case_train.layer_dims, X_30000, labels_30000, parameters_train)\n",
        "case_test_2.predict_test()"
      ],
      "execution_count": 260,
      "outputs": [
        {
          "output_type": "stream",
          "text": [
            "Accuracy: 0.8641135886411357\n"
          ],
          "name": "stdout"
        }
      ]
    },
    {
      "metadata": {
        "id": "yKjtrqgxif9o",
        "colab_type": "code",
        "colab": {
          "autoexec": {
            "startup": false,
            "wait_interval": 0
          },
          "base_uri": "https://localhost:8080/",
          "height": 34
        },
        "outputId": "b53672fb-b032-48e3-e4ea-c712f063c285",
        "executionInfo": {
          "status": "ok",
          "timestamp": 1524638580975,
          "user_tz": -600,
          "elapsed": 747,
          "user": {
            "displayName": "Lan",
            "photoUrl": "https://lh3.googleusercontent.com/a/default-user=s128",
            "userId": "106352409797232494979"
          }
        }
      },
      "cell_type": "code",
      "source": [
        "\n",
        "X_40000 = X[:,30000:40001]\n",
        "labels_40000 = labels[30000:40001]\n",
        "\n",
        "parameters_train = case_train.parameters\n",
        "case_test_1 = Network_test(case_train.layer_dims, X_40000, labels_40000, parameters_train)\n",
        "case_test_1.predict_test()"
      ],
      "execution_count": 262,
      "outputs": [
        {
          "output_type": "stream",
          "text": [
            "Accuracy: 0.8674132586741324\n"
          ],
          "name": "stdout"
        }
      ]
    },
    {
      "metadata": {
        "id": "rI1fieXXzoJZ",
        "colab_type": "code",
        "colab": {
          "autoexec": {
            "startup": false,
            "wait_interval": 0
          },
          "base_uri": "https://localhost:8080/",
          "height": 34
        },
        "outputId": "148480e0-e56d-4b94-b966-ed4eeeca5741",
        "executionInfo": {
          "status": "ok",
          "timestamp": 1524638534103,
          "user_tz": -600,
          "elapsed": 743,
          "user": {
            "displayName": "Lan",
            "photoUrl": "https://lh3.googleusercontent.com/a/default-user=s128",
            "userId": "106352409797232494979"
          }
        }
      },
      "cell_type": "code",
      "source": [
        "\n",
        "X_20000 = X[:,10000:20001]\n",
        "labels_20000 = labels[10000:20001]\n",
        "\n",
        "parameters_train = case_train.parameters\n",
        "case_test_1 = Network_test(case_train.layer_dims, X_20000, labels_20000, parameters_train)\n",
        "case_test_1.predict_test()"
      ],
      "execution_count": 261,
      "outputs": [
        {
          "output_type": "stream",
          "text": [
            "Accuracy: 0.9072092790720926\n"
          ],
          "name": "stdout"
        }
      ]
    },
    {
      "metadata": {
        "id": "iLMs3Ls3h99m",
        "colab_type": "code",
        "colab": {
          "autoexec": {
            "startup": false,
            "wait_interval": 0
          }
        }
      },
      "cell_type": "code",
      "source": [
        "\"\"\"\n",
        "Load in test data \n",
        "\"\"\"\n",
        "with h5py.File('test_128.h5','r') as H_test:\n",
        "    X_test = np.copy(H_test['data']).T"
      ],
      "execution_count": 0,
      "outputs": []
    },
    {
      "metadata": {
        "id": "M7UZ_07zc0Dy",
        "colab_type": "code",
        "colab": {
          "autoexec": {
            "startup": false,
            "wait_interval": 0
          },
          "base_uri": "https://localhost:8080/",
          "height": 2280
        },
        "outputId": "83f3b7b7-55c4-468e-96a7-0e9d951491b7",
        "executionInfo": {
          "status": "ok",
          "timestamp": 1524635100082,
          "user_tz": -600,
          "elapsed": 52620,
          "user": {
            "displayName": "Lan",
            "photoUrl": "https://lh3.googleusercontent.com/a/default-user=s128",
            "userId": "106352409797232494979"
          }
        }
      },
      "cell_type": "code",
      "source": [
        "# test a own-generated data set using the model\n",
        "import numpy as np\n",
        "import matplotlib.pyplot as plt\n",
        "import time\n",
        "start_time = time.time()\n",
        "\n",
        "case1_layer_dims = np.array([128,50,10])\n",
        "case1_X=np.random.rand(128,1000)\n",
        "case1_labels= np.random.randint(10,size=1000)\n",
        "\n",
        "\n",
        "case1 = Network(case1_layer_dims , case1_X, case1_labels)\n",
        "\n",
        "case1.L_layer_model(learning_rate = 0.1, num_iterations=10000, print_cost=True)\n",
        "\n",
        "print(\"--- %s seconds ---\" % (time.time() - start_time))"
      ],
      "execution_count": 227,
      "outputs": [
        {
          "output_type": "stream",
          "text": [
            "Cost after iteration 0: 2.302585\n",
            "Accuracy: 0.095\n",
            "Cost after iteration 100: 2.300247\n",
            "Cost after iteration 200: 2.299924\n",
            "Cost after iteration 300: 2.299878\n",
            "Cost after iteration 400: 2.299869\n",
            "Cost after iteration 500: 2.299864\n",
            "Cost after iteration 600: 2.299856\n",
            "Cost after iteration 700: 2.299841\n",
            "Cost after iteration 800: 2.299809\n",
            "Cost after iteration 900: 2.299742\n",
            "Cost after iteration 1000: 2.299606\n",
            "Accuracy: 0.11100000000000002\n",
            "Cost after iteration 1100: 2.299327\n",
            "Cost after iteration 1200: 2.298765\n",
            "Cost after iteration 1300: 2.297659\n",
            "Cost after iteration 1400: 2.295571\n",
            "Cost after iteration 1500: 2.291889\n",
            "Cost after iteration 1600: 2.285937\n",
            "Cost after iteration 1700: 2.277302\n",
            "Cost after iteration 1800: 2.266147\n",
            "Cost after iteration 1900: 2.253482\n",
            "Cost after iteration 2000: 2.240218\n",
            "Accuracy: 0.171\n",
            "Cost after iteration 2100: 2.226202\n",
            "Cost after iteration 2200: 2.210053\n",
            "Cost after iteration 2300: 2.189679\n",
            "Cost after iteration 2400: 2.163092\n",
            "Cost after iteration 2500: 2.130517\n",
            "Cost after iteration 2600: 2.092996\n",
            "Cost after iteration 2700: 2.050346\n",
            "Cost after iteration 2800: 2.002441\n",
            "Cost after iteration 2900: 1.948847\n",
            "Cost after iteration 3000: 1.896496\n",
            "Accuracy: 0.356\n",
            "Cost after iteration 3100: 1.836755\n",
            "Cost after iteration 3200: 1.790075\n",
            "Cost after iteration 3300: 1.736853\n",
            "Cost after iteration 3400: 1.671773\n",
            "Cost after iteration 3500: 1.618701\n",
            "Cost after iteration 3600: 1.578325\n",
            "Cost after iteration 3700: 1.525190\n",
            "Cost after iteration 3800: 1.454659\n",
            "Cost after iteration 3900: 1.404563\n",
            "Cost after iteration 4000: 1.347032\n",
            "Accuracy: 0.5630000000000001\n",
            "Cost after iteration 4100: 1.289261\n",
            "Cost after iteration 4200: 1.226392\n",
            "Cost after iteration 4300: 1.144555\n",
            "Cost after iteration 4400: 1.088249\n",
            "Cost after iteration 4500: 1.038979\n",
            "Cost after iteration 4600: 0.972057\n",
            "Cost after iteration 4700: 0.906002\n",
            "Cost after iteration 4800: 0.827548\n",
            "Cost after iteration 4900: 0.756841\n",
            "Cost after iteration 5000: 0.688310\n",
            "Accuracy: 0.8710000000000003\n",
            "Cost after iteration 5100: 0.656285\n",
            "Cost after iteration 5200: 0.579382\n",
            "Cost after iteration 5300: 0.518198\n",
            "Cost after iteration 5400: 0.455459\n",
            "Cost after iteration 5500: 0.418831\n",
            "Cost after iteration 5600: 0.369954\n",
            "Cost after iteration 5700: 0.329176\n",
            "Cost after iteration 5800: 0.299372\n",
            "Cost after iteration 5900: 0.265003\n",
            "Cost after iteration 6000: 0.237504\n",
            "Accuracy: 0.9950000000000004\n",
            "Cost after iteration 6100: 0.216852\n",
            "Cost after iteration 6200: 0.198214\n",
            "Cost after iteration 6300: 0.179746\n",
            "Cost after iteration 6400: 0.164784\n",
            "Cost after iteration 6500: 0.152769\n",
            "Cost after iteration 6600: 0.140039\n",
            "Cost after iteration 6700: 0.129783\n",
            "Cost after iteration 6800: 0.121250\n",
            "Cost after iteration 6900: 0.112620\n",
            "Cost after iteration 7000: 0.105554\n",
            "Accuracy: 0.9990000000000004\n"
          ],
          "name": "stdout"
        },
        {
          "output_type": "stream",
          "text": [
            "Cost after iteration 7100: 0.098954\n",
            "Cost after iteration 7200: 0.093046\n",
            "Cost after iteration 7300: 0.087566\n",
            "Cost after iteration 7400: 0.082782\n",
            "Cost after iteration 7500: 0.078199\n",
            "Cost after iteration 7600: 0.074189\n",
            "Cost after iteration 7700: 0.070463\n",
            "Cost after iteration 7800: 0.067014\n",
            "Cost after iteration 7900: 0.063831\n",
            "Cost after iteration 8000: 0.060862\n",
            "Accuracy: 1.0000000000000004\n",
            "Cost after iteration 8100: 0.058250\n",
            "Cost after iteration 8200: 0.055746\n",
            "Cost after iteration 8300: 0.053412\n",
            "Cost after iteration 8400: 0.051234\n",
            "Cost after iteration 8500: 0.049219\n",
            "Cost after iteration 8600: 0.047331\n",
            "Cost after iteration 8700: 0.045546\n",
            "Cost after iteration 8800: 0.043916\n",
            "Cost after iteration 8900: 0.042338\n",
            "Cost after iteration 9000: 0.040874\n",
            "Accuracy: 1.0000000000000004\n",
            "Cost after iteration 9100: 0.039487\n",
            "Cost after iteration 9200: 0.038175\n",
            "Cost after iteration 9300: 0.036990\n",
            "Cost after iteration 9400: 0.035821\n",
            "Cost after iteration 9500: 0.034751\n",
            "Cost after iteration 9600: 0.033698\n",
            "Cost after iteration 9700: 0.032696\n",
            "Cost after iteration 9800: 0.031758\n",
            "Cost after iteration 9900: 0.030875\n",
            "Accuracy: 1.0000000000000004\n"
          ],
          "name": "stdout"
        },
        {
          "output_type": "display_data",
          "data": {
            "image/png": "[encoded data removed]",
            "text/plain": [
              "<matplotlib.figure.Figure at 0x7ff8c620d048>"
            ]
          },
          "metadata": {
            "tags": []
          }
        },
        {
          "output_type": "stream",
          "text": [
            "--- 51.83878207206726 seconds ---\n"
          ],
          "name": "stdout"
        }
      ]
    },
    {
      "metadata": {
        "id": "YV1MPsUKivxw",
        "colab_type": "code",
        "colab": {
          "autoexec": {
            "startup": false,
            "wait_interval": 0
          }
        }
      },
      "cell_type": "code",
      "source": [
        "case1_X_test = np.random.rand(128,1000)\n",
        "case1_labels_test= np.random.randint(10,size=1000)\n",
        "parameters_train = case1.parameters\n",
        "case1_test = Network_test(case1_layer_dims, case1_X_test, case1_labels_test, parameters_train)\n",
        "case1_test.predict_test()"
      ],
      "execution_count": 0,
      "outputs": []
    },
    {
      "metadata": {
        "id": "HFJUpQSzQQYp",
        "colab_type": "code",
        "colab": {
          "autoexec": {
            "startup": false,
            "wait_interval": 0
          }
        }
      },
      "cell_type": "code",
      "source": [
        "#back test case\n",
        "A_prev = X\n",
        "W = case1.parameters['W1']\n",
        "b = case1.parameters['b1']\n",
        "dZ=np.random.rand(3,2)\n",
        "\n",
        "m = A_prev.shape[1]\n",
        "\n",
        "dW = 1./m * np.dot(dZ,A_prev.T)\n",
        "db = 1./m * np.sum(dZ, axis = 1, keepdims = True)\n",
        "dA_prev = np.dot(W.T,dZ)\n",
        "\n",
        "assert (dA_prev.shape == A_prev.shape)\n",
        "assert (dW.shape == W.shape)\n",
        "assert (db.shape == b.shape)"
      ],
      "execution_count": 0,
      "outputs": []
    },
    {
      "metadata": {
        "id": "eV7U5jb5PAqf",
        "colab_type": "code",
        "colab": {
          "autoexec": {
            "startup": false,
            "wait_interval": 0
          },
          "base_uri": "https://localhost:8080/",
          "height": 187
        },
        "outputId": "3d8b1092-2d2d-4769-dd10-533e51e5b8ba",
        "executionInfo": {
          "status": "ok",
          "timestamp": 1524550109711,
          "user_tz": -600,
          "elapsed": 747,
          "user": {
            "displayName": "Lan",
            "photoUrl": "https://lh3.googleusercontent.com/a/default-user=s128",
            "userId": "106352409797232494979"
          }
        }
      },
      "cell_type": "code",
      "source": [
        "#softmax back test\n",
        "\n",
        "Z_prev=np.random.rand(10,2)\n",
        "\n",
        "dZ = np.exp(Z_prev)/np.sum(np.exp(Z_prev),axis=0)-Y\n",
        "\n",
        "dZ"
      ],
      "execution_count": 88,
      "outputs": [
        {
          "output_type": "execute_result",
          "data": {
            "text/plain": [
              "array([[ 0.08667124,  0.10417552],\n",
              "       [ 0.17286902,  0.10163095],\n",
              "       [ 0.06679216,  0.12914691],\n",
              "       [-0.91724266,  0.12998553],\n",
              "       [ 0.09662129,  0.13753244],\n",
              "       [ 0.13838783,  0.10114531],\n",
              "       [ 0.07514305,  0.06157375],\n",
              "       [ 0.07401605,  0.06063485],\n",
              "       [ 0.07299804,  0.07267717],\n",
              "       [ 0.13374399, -0.89850242]])"
            ]
          },
          "metadata": {
            "tags": []
          },
          "execution_count": 88
        }
      ]
    }
  ]
}